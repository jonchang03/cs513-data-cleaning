{
 "cells": [
  {
   "cell_type": "markdown",
   "metadata": {},
   "source": [
    "Before you turn this problem in, make sure everything runs as expected. First, **restart the kernel** (in the menubar, select Kernel$\\rightarrow$Restart) and then **run all cells** (in the menubar, select Cell$\\rightarrow$Run All).\n",
    "\n",
    "Make sure you fill in any place that says `YOUR CODE HERE` or \"YOUR ANSWER HERE\", as well as your name and collaborators below:"
   ]
  },
  {
   "cell_type": "code",
   "execution_count": null,
   "metadata": {},
   "outputs": [],
   "source": [
    "NAME = \"\"\n",
    "COLLABORATORS = \"\""
   ]
  },
  {
   "cell_type": "markdown",
   "metadata": {},
   "source": [
    "---"
   ]
  },
  {
   "cell_type": "markdown",
   "metadata": {
    "deletable": false,
    "editable": false,
    "nbgrader": {
     "checksum": "b92f0f3602f90a42fb9aa9e417896a14",
     "grade": false,
     "grade_id": "cell-3ce8624281a785f8",
     "locked": true,
     "schema_version": 1,
     "solution": false
    }
   },
   "source": [
    "# Getting started with Sqlite in Jupyter.\n",
    "To use Sqlite in this Juyter notebook, there are two steps:  \n",
    "1. Connect to sqlite database.\n",
    "2. Execute queries.\n",
    "\n",
    "We will demonstrate these two steps and some other additional information in the next few cells."
   ]
  },
  {
   "cell_type": "code",
   "execution_count": null,
   "metadata": {
    "deletable": false,
    "editable": false,
    "nbgrader": {
     "checksum": "fb5bcd2df03cc0f323e88e4b3017d2a3",
     "grade": false,
     "grade_id": "cell-f38e969889d65cb3",
     "locked": true,
     "schema_version": 1,
     "solution": false
    }
   },
   "outputs": [],
   "source": [
    "%reload_ext sql\n",
    "%reload_ext lib.sqlite.sqlite_evaluate_magic\n",
    "import os"
   ]
  },
  {
   "cell_type": "markdown",
   "metadata": {
    "deletable": false,
    "editable": false,
    "nbgrader": {
     "checksum": "679285a79a60dad8d91089a0250dbb69",
     "grade": false,
     "grade_id": "cell-a6eeb0f19f9eeb1e",
     "locked": true,
     "schema_version": 1,
     "solution": false
    }
   },
   "source": [
    "### Connect to the database"
   ]
  },
  {
   "cell_type": "code",
   "execution_count": null,
   "metadata": {
    "deletable": false,
    "editable": false,
    "nbgrader": {
     "checksum": "c0573d8087facc11bd30492bb611398a",
     "grade": false,
     "grade_id": "cell-a434c5faa3c8d32a",
     "locked": true,
     "schema_version": 1,
     "solution": false
    }
   },
   "outputs": [],
   "source": [
    "# Connect to database. Following command will connect you to the database.\n",
    "# Any query that you will run after this cell will be run on the `surverys` database.\n",
    "# You can always change the path in database url and connect to some other sqlite db of your choice.\n",
    "survey_db_url = 'sqlite:///' + os.path.expanduser('~/data_readonly/sqlite/databases/survey.db')\n",
    "%sql $survey_db_url"
   ]
  },
  {
   "cell_type": "markdown",
   "metadata": {
    "deletable": false,
    "editable": false,
    "nbgrader": {
     "checksum": "388174a43bca8195ee9ce475d2c14638",
     "grade": false,
     "grade_id": "cell-ccb7dd16eac80b45",
     "locked": true,
     "schema_version": 1,
     "solution": false
    }
   },
   "source": [
    "### Execute first query\n",
    "To execute a sql query with the last connected database, start cell with `%%sql` and use rest of the cell to write the query."
   ]
  },
  {
   "cell_type": "code",
   "execution_count": null,
   "metadata": {},
   "outputs": [],
   "source": [
    "%%sql \n",
    "-- The query and results of the query will be saved to a variable named survey\n",
    "survey << \n",
    "SELECT *\n",
    "FROM survey;"
   ]
  },
  {
   "cell_type": "code",
   "execution_count": null,
   "metadata": {},
   "outputs": [],
   "source": [
    "survey['query']"
   ]
  },
  {
   "cell_type": "code",
   "execution_count": null,
   "metadata": {},
   "outputs": [],
   "source": [
    "survey['result']"
   ]
  },
  {
   "cell_type": "markdown",
   "metadata": {
    "deletable": false,
    "editable": false,
    "nbgrader": {
     "checksum": "7f2809b873de6f6a373016134ada0a74",
     "grade": false,
     "grade_id": "cell-6169b18aea6b967d",
     "locked": true,
     "schema_version": 1,
     "solution": false
    }
   },
   "source": [
    "The database that we used above is read only for students but if you feel like inserting your own records and playing around with it, you can always copy the database and insert some records.\n",
    "\n",
    "You will write your queries and assign them to variables, we will read your queries from these variables and test them."
   ]
  },
  {
   "cell_type": "markdown",
   "metadata": {
    "deletable": false,
    "editable": false,
    "nbgrader": {
     "checksum": "9a7391c153c0bcf9594592c5f8c4ad4e",
     "grade": false,
     "grade_id": "cell-a4f034f2a29da552",
     "locked": true,
     "schema_version": 1,
     "solution": false
    }
   },
   "source": [
    "# Hands on Sqlite\n",
    "The goal of this assignment is to acquire some basic hands-on skills for SQLite, using the Software Carpentry lessons at [http://swcarpentry.github.io/sql-novice-survey/](http://swcarpentry.github.io/sql-novice-survey/)  \n",
    "\n",
    "Read and walk through the [10 Topics of the SQL novice tutorial](http://swcarpentry.github.io/sql-novice-survey/) Take notes as you go through the material; in particular write down your questions if you run into problems or don't understand something. Post questions to the Moodle as needed."
   ]
  },
  {
   "cell_type": "markdown",
   "metadata": {
    "deletable": false,
    "editable": false,
    "nbgrader": {
     "checksum": "9ee32d812bd698fd0318f9d18dfb383d",
     "grade": false,
     "grade_id": "cell-c8663050acea0103",
     "locked": true,
     "schema_version": 1,
     "solution": false
    }
   },
   "source": [
    "## [2 marks] Question1: Selecting Data\n",
    "Write a query that selects only site names fromt the `Site` table.\n",
    "\n",
    "A template cell is provided for you. Don't change the variable name othewise automated tests won't be able to read your query."
   ]
  },
  {
   "cell_type": "code",
   "execution_count": null,
   "metadata": {
    "deletable": false,
    "nbgrader": {
     "checksum": "82bfdff056ae0bbe1c87bb096566c6ec",
     "grade": false,
     "grade_id": "cell-c7f9ba7443a94c0e",
     "locked": false,
     "schema_version": 1,
     "solution": true
    }
   },
   "outputs": [],
   "source": [
    "%%sql\n",
    "Problem1c_1 <<\n",
    "-- Your query here. Don't change variable name.\n",
    "-- select something from some_table\n",
    "\n"
   ]
  },
  {
   "cell_type": "code",
   "execution_count": null,
   "metadata": {
    "deletable": false,
    "editable": false,
    "nbgrader": {
     "checksum": "718c6580376692655506b9ae29238963",
     "grade": false,
     "grade_id": "cell-4db04470c68aeb78",
     "locked": true,
     "schema_version": 1,
     "solution": false
    }
   },
   "outputs": [],
   "source": [
    "# Run this cell to see expected output of previous query\n",
    "%sql_expected_output Problem1c_1"
   ]
  },
  {
   "cell_type": "code",
   "execution_count": null,
   "metadata": {
    "deletable": false,
    "editable": false,
    "nbgrader": {
     "checksum": "0d1d55ed63579adb9b56fdac1c5071b5",
     "grade": true,
     "grade_id": "cell-8e157c5710a05323",
     "locked": true,
     "points": 2,
     "schema_version": 1,
     "solution": false
    }
   },
   "outputs": [],
   "source": [
    "# We evaluate your query to see if it gave expected output.\n",
    "%sql_evaluate Problem1c_1"
   ]
  },
  {
   "cell_type": "markdown",
   "metadata": {
    "deletable": false,
    "editable": false,
    "nbgrader": {
     "checksum": "a956f0302afce04f7c6c0b01c414b00e",
     "grade": false,
     "grade_id": "cell-abb4f29c17a0b7ea",
     "locked": true,
     "schema_version": 1,
     "solution": false
    }
   },
   "source": [
    "## [10 points] Question2: Sorting and Removing Duplicates \n",
    "\n",
    "a. Write a query that selects distinct dates from the `visited`  \n",
    "b. Write a query that displays the full names of the scientists in the Person table, ordered by family name."
   ]
  },
  {
   "cell_type": "markdown",
   "metadata": {
    "deletable": false,
    "editable": false,
    "nbgrader": {
     "checksum": "7b69aa1166fb7b8d79bb53bce22d3455",
     "grade": false,
     "grade_id": "cell-9eb01eaffac374b2",
     "locked": true,
     "schema_version": 1,
     "solution": false
    }
   },
   "source": [
    "### [5 points] Question2a: Write a query that selects distinct dates from the `visited`"
   ]
  },
  {
   "cell_type": "code",
   "execution_count": null,
   "metadata": {
    "deletable": false,
    "nbgrader": {
     "checksum": "04de9528c9c726bc9224a058fc9a27dd",
     "grade": false,
     "grade_id": "cell-77e0bcf8b78f2560",
     "locked": false,
     "schema_version": 1,
     "solution": true
    }
   },
   "outputs": [],
   "source": [
    "%%sql\n",
    "Problem1c_2a <<\n",
    "-- Your query here. Don't change variable name.\n",
    "-- select something from some_table\n",
    "\n"
   ]
  },
  {
   "cell_type": "code",
   "execution_count": null,
   "metadata": {
    "deletable": false,
    "editable": false,
    "nbgrader": {
     "checksum": "7c0907e8e4571eb6f5817ea7d2f45833",
     "grade": false,
     "grade_id": "cell-01d49b91d5705fb8",
     "locked": true,
     "schema_version": 1,
     "solution": false
    }
   },
   "outputs": [],
   "source": [
    "# Run this cell to see expected output of previous query\n",
    "%sql_expected_output Problem1c_2a"
   ]
  },
  {
   "cell_type": "code",
   "execution_count": null,
   "metadata": {
    "deletable": false,
    "editable": false,
    "nbgrader": {
     "checksum": "4e0acd28ed3da14818286f97daed095c",
     "grade": true,
     "grade_id": "cell-46c0a735da46b99b",
     "locked": true,
     "points": 5,
     "schema_version": 1,
     "solution": false
    }
   },
   "outputs": [],
   "source": [
    "# We evaluate your query to see if it gave expected output.\n",
    "%sql_evaluate Problem1c_2a"
   ]
  },
  {
   "cell_type": "markdown",
   "metadata": {
    "deletable": false,
    "editable": false,
    "nbgrader": {
     "checksum": "cd82984c9c3b410fb966cb8e031ea773",
     "grade": false,
     "grade_id": "cell-517bc6cd7c9efdfd",
     "locked": true,
     "schema_version": 1,
     "solution": false
    }
   },
   "source": [
    "### [5 points] Question2b: Write a query that displays the full names of the scientists in the Person table, ordered by family name."
   ]
  },
  {
   "cell_type": "code",
   "execution_count": null,
   "metadata": {
    "deletable": false,
    "nbgrader": {
     "checksum": "a2d27c84be2e1825c92a6536c404a300",
     "grade": false,
     "grade_id": "cell-013d1fec703ca192",
     "locked": false,
     "schema_version": 1,
     "solution": true
    }
   },
   "outputs": [],
   "source": [
    "%%sql\n",
    "Problem1c_2b <<\n",
    "-- Your query here. Don't change variable name.\n",
    "-- select something from some_table\n",
    "\n"
   ]
  },
  {
   "cell_type": "code",
   "execution_count": null,
   "metadata": {
    "deletable": false,
    "editable": false,
    "nbgrader": {
     "checksum": "5916aad88acf32918d69762497df1a5b",
     "grade": false,
     "grade_id": "cell-4b530df7b29b4e06",
     "locked": true,
     "schema_version": 1,
     "solution": false
    }
   },
   "outputs": [],
   "source": [
    "# Run this cell to see expected output of previous query\n",
    "%sql_expected_output Problem1c_2b"
   ]
  },
  {
   "cell_type": "code",
   "execution_count": null,
   "metadata": {
    "deletable": false,
    "editable": false,
    "nbgrader": {
     "checksum": "dd5e074ee9e82edb525198c4f89e5dda",
     "grade": true,
     "grade_id": "cell-ae64eaecc8c12012",
     "locked": true,
     "points": 5,
     "schema_version": 1,
     "solution": false
    }
   },
   "outputs": [],
   "source": [
    "# We evaluate your query to see if it gave expected output.\n",
    "%sql_evaluate Problem1c_2b"
   ]
  },
  {
   "cell_type": "markdown",
   "metadata": {
    "deletable": false,
    "editable": false,
    "nbgrader": {
     "checksum": "68f6f8fed980789fae6abe60db460c15",
     "grade": false,
     "grade_id": "cell-38c36efcca158c3d",
     "locked": true,
     "schema_version": 1,
     "solution": false
    }
   },
   "source": [
    "## [5 points] Question3: Filtering  \n",
    "Normalized salinity readings are supposed to be between 0.0 and 1.0. Write a query that selects all records from Survey with salinity values outside this range.  \n",
    "Such “outlier” queries are similar in spirit to our IC denial rules in Datalog."
   ]
  },
  {
   "cell_type": "code",
   "execution_count": null,
   "metadata": {
    "deletable": false,
    "nbgrader": {
     "checksum": "9242d61c3cf6faaa7a4cadab900b2a34",
     "grade": false,
     "grade_id": "cell-48f33304c57b879a",
     "locked": false,
     "schema_version": 1,
     "solution": true
    }
   },
   "outputs": [],
   "source": [
    "%%sql\n",
    "Problem1c_3 <<\n",
    "-- Your query here. Don't change variable name.\n",
    "-- select something from some_table\n",
    "\n"
   ]
  },
  {
   "cell_type": "code",
   "execution_count": null,
   "metadata": {
    "deletable": false,
    "editable": false,
    "nbgrader": {
     "checksum": "88969a24ecdbbf3e5f9a329fbe4884b9",
     "grade": false,
     "grade_id": "cell-65687462d164f175",
     "locked": true,
     "schema_version": 1,
     "solution": false
    }
   },
   "outputs": [],
   "source": [
    "# Run this cell to see expected output of previous query\n",
    "%sql_expected_output Problem1c_3"
   ]
  },
  {
   "cell_type": "code",
   "execution_count": null,
   "metadata": {
    "deletable": false,
    "editable": false,
    "nbgrader": {
     "checksum": "7782e2ff35e02edda7a960353f99d8d5",
     "grade": true,
     "grade_id": "cell-d72214197f83573a",
     "locked": true,
     "points": 5,
     "schema_version": 1,
     "solution": false
    }
   },
   "outputs": [],
   "source": [
    "# We evaluate your query to see if it gave expected output.\n",
    "%sql_evaluate Problem1c_3"
   ]
  },
  {
   "cell_type": "markdown",
   "metadata": {
    "deletable": false,
    "editable": false,
    "nbgrader": {
     "checksum": "4d4139e6b9a31b8be8d1a19290e90c74",
     "grade": false,
     "grade_id": "cell-429830fc15ab0b95",
     "locked": true,
     "schema_version": 1,
     "solution": false
    }
   },
   "source": [
    "## [10 points] Question4: Calculating New Values  \n",
    "After further reading, we realize that Valentina Roerich was reporting salinity as percentages.  \n",
    "a. Write a query that returns all of her salinity measurements from the Survey table with the values divided by 100.  \n",
    "b. Use UNION to create a consolidated list of salinity measurements in which Roerich’s have been\n",
    "corrected."
   ]
  },
  {
   "cell_type": "markdown",
   "metadata": {
    "deletable": false,
    "editable": false,
    "nbgrader": {
     "checksum": "89435a3b72abdb324f77aaef4cd0e753",
     "grade": false,
     "grade_id": "cell-a6b31124534519db",
     "locked": true,
     "schema_version": 1,
     "solution": false
    }
   },
   "source": [
    "### [5 points] Question4a: After further reading, we realize that Valentina Roerich was reporting salinity as percentages. Write a query that returns all of her salinity measurements from the Survey table with the values divided by 100. "
   ]
  },
  {
   "cell_type": "code",
   "execution_count": null,
   "metadata": {
    "deletable": false,
    "nbgrader": {
     "checksum": "b021937b16d70354cd11b435165e66f9",
     "grade": false,
     "grade_id": "cell-08da7525d5934fbb",
     "locked": false,
     "schema_version": 1,
     "solution": true
    }
   },
   "outputs": [],
   "source": [
    "%%sql\n",
    "Problem1c_4a <<\n",
    "-- Your query here. Don't change variable name.\n",
    "-- select something from some_table\n",
    "\n"
   ]
  },
  {
   "cell_type": "code",
   "execution_count": null,
   "metadata": {
    "deletable": false,
    "editable": false,
    "nbgrader": {
     "checksum": "c7d46832433006b5aee717ac314e8c3c",
     "grade": false,
     "grade_id": "cell-4e49ff79fbd3a53a",
     "locked": true,
     "schema_version": 1,
     "solution": false
    }
   },
   "outputs": [],
   "source": [
    "# Run this cell to see expected output of previous query\n",
    "# Don't worry about floating points not exactly matching. \n",
    "# As long as they match upto 3 decimal places, you will get credit.\n",
    "%sql_expected_output Problem1c_4a"
   ]
  },
  {
   "cell_type": "code",
   "execution_count": null,
   "metadata": {
    "deletable": false,
    "editable": false,
    "nbgrader": {
     "checksum": "4d32db8e150fbd403386660714da7860",
     "grade": true,
     "grade_id": "cell-bf68c5a60d13830a",
     "locked": true,
     "points": 0,
     "schema_version": 1,
     "solution": false
    }
   },
   "outputs": [],
   "source": [
    "# We evaluate your query to see if it gave expected output.\n",
    "%sql_evaluate Problem1c_4a"
   ]
  },
  {
   "cell_type": "markdown",
   "metadata": {
    "deletable": false,
    "editable": false,
    "nbgrader": {
     "checksum": "353e1eaca4547eabd2de913a3c3ac569",
     "grade": false,
     "grade_id": "cell-5864eb36086c4265",
     "locked": true,
     "schema_version": 1,
     "solution": false
    }
   },
   "source": [
    "### [5 points] Question4b: Use UNION to create a consolidated list of salinity measurements in which Roerich’s have been corrected."
   ]
  },
  {
   "cell_type": "code",
   "execution_count": null,
   "metadata": {
    "deletable": false,
    "nbgrader": {
     "checksum": "fa5489cf265f3ce3b54e583926ca857d",
     "grade": false,
     "grade_id": "cell-fd477958f04b2758",
     "locked": false,
     "schema_version": 1,
     "solution": true
    }
   },
   "outputs": [],
   "source": [
    "%%sql\n",
    "Problem1c_4b <<\n",
    "-- Your query here. Don't change variable name.\n",
    "-- select something from some_table\n",
    "\n"
   ]
  },
  {
   "cell_type": "code",
   "execution_count": null,
   "metadata": {
    "deletable": false,
    "editable": false,
    "nbgrader": {
     "checksum": "6f0d6ad3c34016853b45ed286c01455e",
     "grade": false,
     "grade_id": "cell-c0d84c6ae042bc8f",
     "locked": true,
     "schema_version": 1,
     "solution": false
    }
   },
   "outputs": [],
   "source": [
    "# Run this cell to see expected output of previous query\n",
    "%sql_expected_output Problem1c_4b"
   ]
  },
  {
   "cell_type": "code",
   "execution_count": null,
   "metadata": {
    "deletable": false,
    "editable": false,
    "nbgrader": {
     "checksum": "5d24f03aa3788abad2057ec73c8780db",
     "grade": true,
     "grade_id": "cell-92e8752ead4f9e5a",
     "locked": true,
     "points": 0,
     "schema_version": 1,
     "solution": false
    }
   },
   "outputs": [],
   "source": [
    "# We evaluate your query to see if it gave expected output.\n",
    "%sql_evaluate Problem1c_4b"
   ]
  },
  {
   "cell_type": "markdown",
   "metadata": {
    "deletable": false,
    "editable": false,
    "nbgrader": {
     "checksum": "04734ffe6833f5d375fc70eae4cc3e8d",
     "grade": false,
     "grade_id": "cell-29472cd83ddc0f14",
     "locked": true,
     "schema_version": 1,
     "solution": false
    }
   },
   "source": [
    "## [6 points] Question5: Missing Data\n",
    "Write a query that sorts the records in Visited by date, omitting entries for which the date is not known (i.e., is null)."
   ]
  },
  {
   "cell_type": "code",
   "execution_count": null,
   "metadata": {
    "deletable": false,
    "nbgrader": {
     "checksum": "6df94ee63d742ffb283691c23bdf147c",
     "grade": false,
     "grade_id": "cell-87f32a339c0503b1",
     "locked": false,
     "schema_version": 1,
     "solution": true
    }
   },
   "outputs": [],
   "source": [
    "%%sql\n",
    "Problem1c_5a <<\n",
    "-- Your query here. Don't change variable name.\n",
    "-- select something from some_table\n",
    "\n"
   ]
  },
  {
   "cell_type": "code",
   "execution_count": null,
   "metadata": {
    "deletable": false,
    "editable": false,
    "nbgrader": {
     "checksum": "be32940fcf583b01acd29c8b1db24166",
     "grade": false,
     "grade_id": "cell-9beeb8608a6a3490",
     "locked": true,
     "schema_version": 1,
     "solution": false
    }
   },
   "outputs": [],
   "source": [
    "# Run this cell to see expected output of previous query\n",
    "%sql_expected_output Problem1c_5a"
   ]
  },
  {
   "cell_type": "code",
   "execution_count": null,
   "metadata": {
    "deletable": false,
    "editable": false,
    "nbgrader": {
     "checksum": "f9dcc22b7fe9b74dae1ac5e521ebde9a",
     "grade": true,
     "grade_id": "cell-0002ee7f0580034d",
     "locked": true,
     "points": 6,
     "schema_version": 1,
     "solution": false
    }
   },
   "outputs": [],
   "source": [
    "# We evaluate your query to see if it gave expected output.\n",
    "%sql_evaluate Problem1c_5a"
   ]
  },
  {
   "cell_type": "markdown",
   "metadata": {
    "deletable": false,
    "editable": false,
    "nbgrader": {
     "checksum": "cda4e1b95078b1e42e18d33e737af0b3",
     "grade": false,
     "grade_id": "cell-30cfd86232592d54",
     "locked": true,
     "schema_version": 1,
     "solution": false
    }
   },
   "source": [
    "## [6 points] Question6: Aggregation  \n",
    "How many temperature readings did Frank Pabodie record, and what was their average value?  "
   ]
  },
  {
   "cell_type": "code",
   "execution_count": null,
   "metadata": {
    "deletable": false,
    "nbgrader": {
     "checksum": "61545de83ca3fcbce2f7fed0b40bbd78",
     "grade": false,
     "grade_id": "cell-84bd2c9d0611bff3",
     "locked": false,
     "schema_version": 1,
     "solution": true
    }
   },
   "outputs": [],
   "source": [
    "%%sql\n",
    "Problem1c_6a <<\n",
    "-- Your query here. Don't change variable name.\n",
    "-- select something from some_table\n",
    "\n"
   ]
  },
  {
   "cell_type": "code",
   "execution_count": null,
   "metadata": {
    "deletable": false,
    "editable": false,
    "nbgrader": {
     "checksum": "7f8e9239b3c0fa3cec17170defde822d",
     "grade": false,
     "grade_id": "cell-a03fd37bd973ea8c",
     "locked": true,
     "schema_version": 1,
     "solution": false
    }
   },
   "outputs": [],
   "source": [
    "# Run this cell to see expected output of previous query\n",
    "%sql_expected_output Problem1c_6a"
   ]
  },
  {
   "cell_type": "code",
   "execution_count": null,
   "metadata": {
    "deletable": false,
    "editable": false,
    "nbgrader": {
     "checksum": "abfbccb5e6e301345cb1aa1fda198bd3",
     "grade": true,
     "grade_id": "cell-233203635869c04e",
     "locked": true,
     "points": 6,
     "schema_version": 1,
     "solution": false
    }
   },
   "outputs": [],
   "source": [
    "# We evaluate your query to see if it gave expected output.\n",
    "%sql_evaluate Problem1c_6a"
   ]
  },
  {
   "cell_type": "markdown",
   "metadata": {
    "deletable": false,
    "editable": false,
    "nbgrader": {
     "checksum": "2118a4e0449f716cd5a1fc58ada850ac",
     "grade": false,
     "grade_id": "cell-072b59792fa06fb7",
     "locked": true,
     "schema_version": 1,
     "solution": false
    }
   },
   "source": [
    "## [20 points] Question7: Combining Data\n",
    "a. Write a query that lists all radiation readings from the DR-1 site.  \n",
    "b. Write a query that lists all sites visited by people named “Frank”.  \n",
    "c. Write a query that shows each site with exact location (lat, long) ordered by visited date, followed by personal name and family name of the person who visited the site and the type of measurement taken and its reading. Please avoid all null values."
   ]
  },
  {
   "cell_type": "markdown",
   "metadata": {
    "deletable": false,
    "editable": false,
    "nbgrader": {
     "checksum": "d3019ff9f6a369f71606df511d38d507",
     "grade": false,
     "grade_id": "cell-c65ad1f6876ccd02",
     "locked": true,
     "schema_version": 1,
     "solution": false
    }
   },
   "source": [
    "### [5 points] Question7a: Write a query that lists all radiation readings from the DR-1 site."
   ]
  },
  {
   "cell_type": "code",
   "execution_count": null,
   "metadata": {
    "deletable": false,
    "nbgrader": {
     "checksum": "64fc32fe20f57ba806576349369c71c6",
     "grade": false,
     "grade_id": "cell-2b28e36ea0e6f9b0",
     "locked": false,
     "schema_version": 1,
     "solution": true
    }
   },
   "outputs": [],
   "source": [
    "%%sql\n",
    "Problem1c_7a <<\n",
    "-- Your query here. Don't change variable name.\n",
    "-- select something from some_table\n",
    "\n"
   ]
  },
  {
   "cell_type": "code",
   "execution_count": null,
   "metadata": {
    "deletable": false,
    "editable": false,
    "nbgrader": {
     "checksum": "2d715c7ca119d222b879ecd0c32798b3",
     "grade": false,
     "grade_id": "cell-ce79e0c91e72ed5a",
     "locked": true,
     "schema_version": 1,
     "solution": false
    }
   },
   "outputs": [],
   "source": [
    "# Run this cell to see expected output of previous query\n",
    "# Don't worry about floating points not exactly matching. \n",
    "# As long as they match upto 3 decimal places, you will get credit.\n",
    "%sql_expected_output Problem1c_7a"
   ]
  },
  {
   "cell_type": "code",
   "execution_count": null,
   "metadata": {
    "deletable": false,
    "editable": false,
    "nbgrader": {
     "checksum": "c74b6cf17ee1581d389cd521f9b8b799",
     "grade": true,
     "grade_id": "cell-be598bf477a3adf6",
     "locked": true,
     "points": 5,
     "schema_version": 1,
     "solution": false
    }
   },
   "outputs": [],
   "source": [
    "# We evaluate your query to see if it gave expected output.\n",
    "%sql_evaluate Problem1c_7a"
   ]
  },
  {
   "cell_type": "markdown",
   "metadata": {
    "deletable": false,
    "editable": false,
    "nbgrader": {
     "checksum": "dbc826df2b50a3109665b5169ffe4d65",
     "grade": false,
     "grade_id": "cell-1b1ea057d528745e",
     "locked": true,
     "schema_version": 1,
     "solution": false
    }
   },
   "source": [
    "### [5 points] Question7b: Write a query that lists all sites visited by people named “Frank”."
   ]
  },
  {
   "cell_type": "code",
   "execution_count": null,
   "metadata": {
    "deletable": false,
    "nbgrader": {
     "checksum": "11790cc62ae8c21e3c54b7b7519d485e",
     "grade": false,
     "grade_id": "cell-4867197df1fd61fc",
     "locked": false,
     "schema_version": 1,
     "solution": true
    }
   },
   "outputs": [],
   "source": [
    "%%sql\n",
    "Problem1c_7b <<\n",
    "-- Your query here. Don't change variable name.\n",
    "-- select something from some_table\n",
    "\n"
   ]
  },
  {
   "cell_type": "code",
   "execution_count": null,
   "metadata": {
    "deletable": false,
    "editable": false,
    "nbgrader": {
     "checksum": "21d8f226359eed7d0fc1ea612464e4d5",
     "grade": false,
     "grade_id": "cell-aefea03f6877094a",
     "locked": true,
     "schema_version": 1,
     "solution": false
    }
   },
   "outputs": [],
   "source": [
    "# Run this cell to see expected output of previous query\n",
    "%sql_expected_output Problem1c_7b"
   ]
  },
  {
   "cell_type": "code",
   "execution_count": null,
   "metadata": {
    "deletable": false,
    "editable": false,
    "nbgrader": {
     "checksum": "ae085cd887855c373fb4bd69f9b319be",
     "grade": false,
     "grade_id": "cell-cbef12fbde4b527d",
     "locked": true,
     "schema_version": 1,
     "solution": false
    }
   },
   "outputs": [],
   "source": [
    "# We evaluate your query to see if it gave expected output.\n",
    "%sql_evaluate Problem1c_7b"
   ]
  },
  {
   "cell_type": "markdown",
   "metadata": {
    "deletable": false,
    "editable": false,
    "nbgrader": {
     "checksum": "677fd023fe5f8619bbc399e1feda9879",
     "grade": false,
     "grade_id": "cell-c8f135e8c973615c",
     "locked": true,
     "schema_version": 1,
     "solution": false
    }
   },
   "source": [
    "### [5 points] Question7c: Write a query that shows each site with exact location (lat, long) ordered by visited date, followed by personal name and family name of the person who visited the site and the type of measurement taken and its reading. Please avoid all null values."
   ]
  },
  {
   "cell_type": "code",
   "execution_count": null,
   "metadata": {
    "deletable": false,
    "nbgrader": {
     "checksum": "ad28bf44cbd3083ba9c377ca5e53f205",
     "grade": false,
     "grade_id": "cell-8953bbfae7db97de",
     "locked": false,
     "schema_version": 1,
     "solution": true
    }
   },
   "outputs": [],
   "source": [
    "%%sql\n",
    "Problem1c_7c <<\n",
    "-- Your query here. Don't change variable name.\n",
    "-- select something from some_table\n",
    "\n"
   ]
  },
  {
   "cell_type": "code",
   "execution_count": null,
   "metadata": {
    "deletable": false,
    "editable": false,
    "nbgrader": {
     "checksum": "4a90e8dab9b1245dd308c6a8f3f9adc7",
     "grade": false,
     "grade_id": "cell-d027bf10af7463dc",
     "locked": true,
     "schema_version": 1,
     "solution": false
    }
   },
   "outputs": [],
   "source": [
    "# Run this cell to see expected output of previous query\n",
    "%sql_expected_output Problem1c_7c"
   ]
  },
  {
   "cell_type": "code",
   "execution_count": null,
   "metadata": {
    "deletable": false,
    "editable": false,
    "nbgrader": {
     "checksum": "9e3b481e700ed38289235edf8d772798",
     "grade": true,
     "grade_id": "cell-17838ce7f29ba022",
     "locked": true,
     "points": 10,
     "schema_version": 1,
     "solution": false
    }
   },
   "outputs": [],
   "source": [
    "# We evaluate your query to see if it gave expected output.\n",
    "%sql_evaluate Problem1c_7c"
   ]
  },
  {
   "cell_type": "code",
   "execution_count": null,
   "metadata": {},
   "outputs": [],
   "source": []
  }
 ],
 "metadata": {
  "coursera": {
   "course_slug": "cs-513",
   "graded_item_id": "TWCdQ",
   "launcher_item_id": "1v4Ck",
   "part_id": "AHHsV"
  },
  "kernelspec": {
   "display_name": "Python 3",
   "language": "python",
   "name": "python3"
  },
  "language_info": {
   "codemirror_mode": {
    "name": "ipython",
    "version": 3
   },
   "file_extension": ".py",
   "mimetype": "text/x-python",
   "name": "python",
   "nbconvert_exporter": "python",
   "pygments_lexer": "ipython3",
   "version": "3.6.8"
  }
 },
 "nbformat": 4,
 "nbformat_minor": 2
}
