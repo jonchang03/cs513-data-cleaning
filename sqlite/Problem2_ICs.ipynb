{
 "cells": [
  {
   "cell_type": "markdown",
   "metadata": {},
   "source": [
    "Before you turn this problem in, make sure everything runs as expected. First, **restart the kernel** (in the menubar, select Kernel$\\rightarrow$Restart) and then **run all cells** (in the menubar, select Cell$\\rightarrow$Run All).\n",
    "\n",
    "Make sure you fill in any place that says `YOUR CODE HERE` or \"YOUR ANSWER HERE\", as well as your name and collaborators below:"
   ]
  },
  {
   "cell_type": "code",
   "execution_count": null,
   "metadata": {},
   "outputs": [],
   "source": [
    "NAME = \"\"\n",
    "COLLABORATORS = \"\""
   ]
  },
  {
   "cell_type": "markdown",
   "metadata": {},
   "source": [
    "---"
   ]
  },
  {
   "cell_type": "markdown",
   "metadata": {
    "deletable": false,
    "editable": false,
    "nbgrader": {
     "checksum": "6516f20d966335c9a19411129ffe81c1",
     "grade": false,
     "grade_id": "cell-db3bb1c00e1a99fc",
     "locked": true,
     "schema_version": 1,
     "solution": false
    }
   },
   "source": [
    "# Integrity constraints with SQL\n",
    "This question is almost identical to second question of datalog assignment. We will find integrity constraint violations in `publications` dataset but using SQL now."
   ]
  },
  {
   "cell_type": "code",
   "execution_count": null,
   "metadata": {
    "deletable": false,
    "editable": false,
    "nbgrader": {
     "checksum": "9a74439e6fc161381eaa0ea0e9d8d264",
     "grade": false,
     "grade_id": "cell-b931aa7a8fc4be76",
     "locked": true,
     "schema_version": 1,
     "solution": false
    }
   },
   "outputs": [],
   "source": [
    "%reload_ext sql\n",
    "%reload_ext lib.sqlite.sqlite_evaluate_magic\n",
    "import os"
   ]
  },
  {
   "cell_type": "markdown",
   "metadata": {
    "deletable": false,
    "editable": false,
    "nbgrader": {
     "checksum": "dde8755f81bdc1a8626c508af99d9ec1",
     "grade": false,
     "grade_id": "cell-76a93b7caae80d79",
     "locked": true,
     "schema_version": 1,
     "solution": false
    }
   },
   "source": [
    "### Connect to the database"
   ]
  },
  {
   "cell_type": "code",
   "execution_count": null,
   "metadata": {
    "deletable": false,
    "editable": false,
    "nbgrader": {
     "checksum": "bf238108f51e4ca122d471ce851b00f4",
     "grade": false,
     "grade_id": "cell-80350bf13392ee14",
     "locked": true,
     "schema_version": 1,
     "solution": false
    }
   },
   "outputs": [],
   "source": [
    "# Connect to database. Following command will connect you to the database.\n",
    "# Any query that you will run after this cell will be run on the `publications` database.\n",
    "# You can always change the path in database url and connect to some other sqlite db of your choice.\n",
    "publications_db_url = 'sqlite:///' + os.path.expanduser('~/data_readonly/sqlite/databases/publications.db')\n",
    "%sql $publications_db_url"
   ]
  },
  {
   "cell_type": "markdown",
   "metadata": {
    "deletable": false,
    "editable": false,
    "nbgrader": {
     "checksum": "e8afcf3d06560b4af0e7c90fbf8f2a50",
     "grade": false,
     "grade_id": "cell-db9c359419a8528d",
     "locked": true,
     "schema_version": 1,
     "solution": false
    }
   },
   "source": [
    "The database has two tables: (1) Publication (2) Cites  \n",
    "Header of output of following two queries will tell you the column names in these tables."
   ]
  },
  {
   "cell_type": "code",
   "execution_count": null,
   "metadata": {
    "deletable": false,
    "editable": false,
    "nbgrader": {
     "checksum": "ba6add4610668b06fac097e7e475dfae",
     "grade": false,
     "grade_id": "cell-76f997c0b06d5439",
     "locked": true,
     "schema_version": 1,
     "solution": false
    }
   },
   "outputs": [],
   "source": [
    "%%sql \n",
    "select * from Publication limit 1;"
   ]
  },
  {
   "cell_type": "code",
   "execution_count": null,
   "metadata": {},
   "outputs": [],
   "source": [
    "%%sql \n",
    "select * from Cites limit 1;"
   ]
  },
  {
   "cell_type": "markdown",
   "metadata": {
    "deletable": false,
    "editable": false,
    "nbgrader": {
     "checksum": "be8a987fab0e28c29d58585d99b7be62",
     "grade": false,
     "grade_id": "cell-206a4fbfcf869ada",
     "locked": true,
     "schema_version": 1,
     "solution": false
    }
   },
   "source": [
    "## We will now write various queries to find \"bad\" (inconsistent) data. \n",
    "If output format is not clear from wording of the question, look at expected output and make your query return in same schema."
   ]
  },
  {
   "cell_type": "markdown",
   "metadata": {
    "deletable": false,
    "editable": false,
    "nbgrader": {
     "checksum": "eb5091d47d9f56aa97fa252d9df2a61a",
     "grade": false,
     "grade_id": "cell-fd46d4dce44ddfcd",
     "locked": true,
     "schema_version": 1,
     "solution": false
    }
   },
   "source": [
    "### [12 points] The key attribute ID should uniquely determine all other attributes.\n",
    "\n",
    "In DENIAL form we report all IC violations, i.e., where there are at least two rows having the same ID, but some differing attributes.\n"
   ]
  },
  {
   "cell_type": "code",
   "execution_count": null,
   "metadata": {
    "deletable": false,
    "nbgrader": {
     "checksum": "ffc2b87338f2cb8001e2934d4edd572f",
     "grade": false,
     "grade_id": "cell-9ca43289e65ae87d",
     "locked": false,
     "schema_version": 1,
     "solution": true
    }
   },
   "outputs": [],
   "source": [
    "%%sql\n",
    "Problem2a_FD_1 <<\n",
    "-- Your query here. Don't change variable name.\n",
    "\n"
   ]
  },
  {
   "cell_type": "code",
   "execution_count": null,
   "metadata": {
    "deletable": false,
    "editable": false,
    "nbgrader": {
     "checksum": "b267e6e834ca198705c6a094b41871ac",
     "grade": false,
     "grade_id": "cell-528754d512ddbf85",
     "locked": true,
     "schema_version": 1,
     "solution": false
    }
   },
   "outputs": [],
   "source": [
    "# Run this cell to see expected output of previous query\n",
    "%sql_expected_output Problem2a_FD_1"
   ]
  },
  {
   "cell_type": "code",
   "execution_count": null,
   "metadata": {
    "deletable": false,
    "editable": false,
    "nbgrader": {
     "checksum": "11c3939a316d252fad9e3e366f6388ab",
     "grade": true,
     "grade_id": "cell-bf31eb5641278110",
     "locked": true,
     "points": 12,
     "schema_version": 1,
     "solution": false
    }
   },
   "outputs": [],
   "source": [
    "# We evaluate your query to see if it gave expected output.\n",
    "%sql_evaluate Problem2a_FD_1"
   ]
  },
  {
   "cell_type": "markdown",
   "metadata": {
    "deletable": false,
    "editable": false,
    "nbgrader": {
     "checksum": "c43f5409928b8db646eaa4ff94d72c7e",
     "grade": false,
     "grade_id": "cell-99d2755289d892b2",
     "locked": true,
     "schema_version": 1,
     "solution": false
    }
   },
   "source": [
    "## [11 points] Every journal has a single publisher, i.e., Journal --> Publisher\n",
    "In denial mode, we report the journals which have multiple publishers, two publishers at a time."
   ]
  },
  {
   "cell_type": "code",
   "execution_count": null,
   "metadata": {
    "deletable": false,
    "nbgrader": {
     "checksum": "64119f02011d9eb5c8b6fe36b58d0c23",
     "grade": false,
     "grade_id": "cell-ac417e6419c9325d",
     "locked": false,
     "schema_version": 1,
     "solution": true
    }
   },
   "outputs": [],
   "source": [
    "%%sql\n",
    "Problem2a_FD_2 <<\n",
    "-- Your query here. Don't change variable name.\n",
    "\n"
   ]
  },
  {
   "cell_type": "code",
   "execution_count": null,
   "metadata": {
    "deletable": false,
    "editable": false,
    "nbgrader": {
     "checksum": "e74afc8779143e2a4ef7479648b5dc47",
     "grade": false,
     "grade_id": "cell-301331d0ce75662e",
     "locked": true,
     "schema_version": 1,
     "solution": false
    }
   },
   "outputs": [],
   "source": [
    "# Run this cell to see expected output of previous query\n",
    "%sql_expected_output Problem2a_FD_2"
   ]
  },
  {
   "cell_type": "code",
   "execution_count": null,
   "metadata": {
    "deletable": false,
    "editable": false,
    "nbgrader": {
     "checksum": "fa7890d7f0ffcd5e4769415c43d9b5d1",
     "grade": true,
     "grade_id": "cell-f28be765e8212235",
     "locked": true,
     "points": 11,
     "schema_version": 1,
     "solution": false
    }
   },
   "outputs": [],
   "source": [
    "# We evaluate your query to see if it gave expected output.\n",
    "%sql_evaluate Problem2a_FD_2"
   ]
  },
  {
   "cell_type": "markdown",
   "metadata": {
    "deletable": false,
    "editable": false,
    "nbgrader": {
     "checksum": "bf9f8cee93a6e6feea94781f1b15d13b",
     "grade": false,
     "grade_id": "cell-3ff0254233136125",
     "locked": true,
     "schema_version": 1,
     "solution": false
    }
   },
   "source": [
    "### [11 points] The last page cannot be smaller than the first page.\n",
    "In DENIAL form, we report the ones for which last page is smaller than first."
   ]
  },
  {
   "cell_type": "code",
   "execution_count": null,
   "metadata": {
    "deletable": false,
    "nbgrader": {
     "checksum": "cef59eea286892793dfeda565abf8f8d",
     "grade": false,
     "grade_id": "cell-860181d720a835da",
     "locked": false,
     "schema_version": 1,
     "solution": true
    }
   },
   "outputs": [],
   "source": [
    "%%sql\n",
    "Problem2a_NC_1 <<\n",
    "-- Your query here. Don't change variable name.\n",
    "\n"
   ]
  },
  {
   "cell_type": "code",
   "execution_count": null,
   "metadata": {
    "deletable": false,
    "editable": false,
    "nbgrader": {
     "checksum": "898d29cd8c2de412f4a0e111ddbe515b",
     "grade": false,
     "grade_id": "cell-65d0fbbb61359f07",
     "locked": true,
     "schema_version": 1,
     "solution": false
    }
   },
   "outputs": [],
   "source": [
    "# Run this cell to see expected output of previous query\n",
    "%sql_expected_output Problem2a_NC_1"
   ]
  },
  {
   "cell_type": "code",
   "execution_count": null,
   "metadata": {
    "deletable": false,
    "editable": false,
    "nbgrader": {
     "checksum": "b45bf3c62e544430f5fa8afc8379e0ad",
     "grade": true,
     "grade_id": "cell-eada1e69a8175898",
     "locked": true,
     "points": 11,
     "schema_version": 1,
     "solution": false
    }
   },
   "outputs": [],
   "source": [
    "# We evaluate your query to see if it gave expected output.\n",
    "%sql_evaluate Problem2a_NC_1"
   ]
  },
  {
   "cell_type": "markdown",
   "metadata": {
    "deletable": false,
    "editable": false,
    "nbgrader": {
     "checksum": "9678374c2ded1a6a89a01fc232d98be2",
     "grade": false,
     "grade_id": "cell-7749a0ac34440335",
     "locked": true,
     "schema_version": 1,
     "solution": false
    }
   },
   "source": [
    "### [11 points] Inclusion Dependency: Every cited publication in CITES also occurs in PUBLICATION.\n",
    "\n",
    "In DENIAL form, we report those publications which are in CITES but not in PUBLICATION."
   ]
  },
  {
   "cell_type": "code",
   "execution_count": null,
   "metadata": {
    "deletable": false,
    "nbgrader": {
     "checksum": "3678205c48edc2622cfb0ad3fa6d8f2c",
     "grade": false,
     "grade_id": "cell-f4f9b59b50dbb0e7",
     "locked": false,
     "schema_version": 1,
     "solution": true
    }
   },
   "outputs": [],
   "source": [
    "%%sql\n",
    "Problem2b_ID <<\n",
    "-- Your query here. Don't change variable name.\n",
    "\n"
   ]
  },
  {
   "cell_type": "code",
   "execution_count": null,
   "metadata": {
    "deletable": false,
    "editable": false,
    "nbgrader": {
     "checksum": "dac5b407fc87c566d1a7c6deb6ca8181",
     "grade": false,
     "grade_id": "cell-84e5fb3097d9cb1b",
     "locked": true,
     "schema_version": 1,
     "solution": false
    }
   },
   "outputs": [],
   "source": [
    "# Run this cell to see expected output of previous query\n",
    "%sql_expected_output Problem2b_ID"
   ]
  },
  {
   "cell_type": "code",
   "execution_count": null,
   "metadata": {
    "deletable": false,
    "editable": false,
    "nbgrader": {
     "checksum": "3e6f8a85d8fd4f5d8f297380168d3b92",
     "grade": true,
     "grade_id": "cell-19f4bcbe1d9c673e",
     "locked": true,
     "points": 11,
     "schema_version": 1,
     "solution": false
    }
   },
   "outputs": [],
   "source": [
    "# We evaluate your query to see if it gave expected output.\n",
    "%sql_evaluate Problem2b_ID"
   ]
  },
  {
   "cell_type": "markdown",
   "metadata": {
    "deletable": false,
    "editable": false,
    "nbgrader": {
     "checksum": "db8dcda924ba93260bcc48dbfa6aa885",
     "grade": false,
     "grade_id": "cell-9697aec6d571d5df",
     "locked": true,
     "schema_version": 1,
     "solution": false
    }
   },
   "source": [
    "### [11 points] If P1 cites P2 then P2's year of publication cannot be greater than P1."
   ]
  },
  {
   "cell_type": "code",
   "execution_count": null,
   "metadata": {
    "deletable": false,
    "nbgrader": {
     "checksum": "38fea82d4626e2967ef26f0eeeb092dc",
     "grade": false,
     "grade_id": "cell-c4403316fcb3d1d0",
     "locked": false,
     "schema_version": 1,
     "solution": true
    }
   },
   "outputs": [],
   "source": [
    "%%sql\n",
    "Problem2b_NC_2 <<\n",
    "-- Your query here. Don't change variable name.\n",
    "\n"
   ]
  },
  {
   "cell_type": "code",
   "execution_count": null,
   "metadata": {
    "deletable": false,
    "editable": false,
    "nbgrader": {
     "checksum": "3169f49a7364c98b216d8987d7f69079",
     "grade": false,
     "grade_id": "cell-0c37f080b3134428",
     "locked": true,
     "schema_version": 1,
     "solution": false
    }
   },
   "outputs": [],
   "source": [
    "# Run this cell to see expected output of previous query\n",
    "%sql_expected_output Problem2b_NC_2"
   ]
  },
  {
   "cell_type": "code",
   "execution_count": null,
   "metadata": {
    "deletable": false,
    "editable": false,
    "nbgrader": {
     "checksum": "43449d3c395c9b6b731e1c7eb66ecba0",
     "grade": true,
     "grade_id": "cell-7eab4f27c5f81536",
     "locked": true,
     "points": 11,
     "schema_version": 1,
     "solution": false
    }
   },
   "outputs": [],
   "source": [
    "# We evaluate your query to see if it gave expected output.\n",
    "%sql_evaluate Problem2b_NC_2"
   ]
  }
 ],
 "metadata": {
  "coursera": {
   "course_slug": "cs-513",
   "graded_item_id": "TWCdQ",
   "launcher_item_id": "1v4Ck",
   "part_id": "LiyI0"
  },
  "kernelspec": {
   "display_name": "Python 3",
   "language": "python",
   "name": "python3"
  },
  "language_info": {
   "codemirror_mode": {
    "name": "ipython",
    "version": 3
   },
   "file_extension": ".py",
   "mimetype": "text/x-python",
   "name": "python",
   "nbconvert_exporter": "python",
   "pygments_lexer": "ipython3",
   "version": "3.6.8"
  }
 },
 "nbformat": 4,
 "nbformat_minor": 2
}
