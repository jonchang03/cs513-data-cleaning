{
 "cells": [
  {
   "cell_type": "markdown",
   "metadata": {},
   "source": [
    "Before you turn this problem in, make sure everything runs as expected. First, **restart the kernel** (in the menubar, select Kernel$\\rightarrow$Restart) and then **run all cells** (in the menubar, select Cell$\\rightarrow$Run All).\n",
    "\n",
    "Make sure you fill in any place that says `YOUR CODE HERE` or \"YOUR ANSWER HERE\", as well as your name and collaborators below:"
   ]
  },
  {
   "cell_type": "code",
   "execution_count": 1,
   "metadata": {},
   "outputs": [],
   "source": [
    "NAME = \"\"\n",
    "COLLABORATORS = \"\""
   ]
  },
  {
   "cell_type": "markdown",
   "metadata": {},
   "source": [
    "---"
   ]
  },
  {
   "cell_type": "markdown",
   "metadata": {
    "deletable": false,
    "editable": false,
    "nbgrader": {
     "checksum": "6516f20d966335c9a19411129ffe81c1",
     "grade": false,
     "grade_id": "cell-db3bb1c00e1a99fc",
     "locked": true,
     "schema_version": 1,
     "solution": false
    }
   },
   "source": [
    "# Integrity constraints with SQL\n",
    "This question is almost identical to second question of datalog assignment. We will find integrity constraint violations in `publications` dataset but using SQL now."
   ]
  },
  {
   "cell_type": "code",
   "execution_count": 2,
   "metadata": {
    "deletable": false,
    "editable": false,
    "nbgrader": {
     "checksum": "9a74439e6fc161381eaa0ea0e9d8d264",
     "grade": false,
     "grade_id": "cell-b931aa7a8fc4be76",
     "locked": true,
     "schema_version": 1,
     "solution": false
    }
   },
   "outputs": [],
   "source": [
    "%reload_ext sql\n",
    "%reload_ext lib.sqlite.sqlite_evaluate_magic\n",
    "import os"
   ]
  },
  {
   "cell_type": "markdown",
   "metadata": {
    "deletable": false,
    "editable": false,
    "nbgrader": {
     "checksum": "dde8755f81bdc1a8626c508af99d9ec1",
     "grade": false,
     "grade_id": "cell-76a93b7caae80d79",
     "locked": true,
     "schema_version": 1,
     "solution": false
    }
   },
   "source": [
    "### Connect to the database"
   ]
  },
  {
   "cell_type": "code",
   "execution_count": 3,
   "metadata": {
    "deletable": false,
    "editable": false,
    "nbgrader": {
     "checksum": "bf238108f51e4ca122d471ce851b00f4",
     "grade": false,
     "grade_id": "cell-80350bf13392ee14",
     "locked": true,
     "schema_version": 1,
     "solution": false
    }
   },
   "outputs": [
    {
     "data": {
      "text/plain": [
       "'Connected: @/home/jovyan/data_readonly/sqlite/databases/publications.db'"
      ]
     },
     "execution_count": 3,
     "metadata": {},
     "output_type": "execute_result"
    }
   ],
   "source": [
    "# Connect to database. Following command will connect you to the database.\n",
    "# Any query that you will run after this cell will be run on the `publications` database.\n",
    "# You can always change the path in database url and connect to some other sqlite db of your choice.\n",
    "publications_db_url = 'sqlite:///' + os.path.expanduser('~/data_readonly/sqlite/databases/publications.db')\n",
    "%sql $publications_db_url"
   ]
  },
  {
   "cell_type": "markdown",
   "metadata": {
    "deletable": false,
    "editable": false,
    "nbgrader": {
     "checksum": "e8afcf3d06560b4af0e7c90fbf8f2a50",
     "grade": false,
     "grade_id": "cell-db9c359419a8528d",
     "locked": true,
     "schema_version": 1,
     "solution": false
    }
   },
   "source": [
    "The database has two tables: (1) Publication (2) Cites  \n",
    "Header of output of following two queries will tell you the column names in these tables."
   ]
  },
  {
   "cell_type": "code",
   "execution_count": 4,
   "metadata": {
    "deletable": false,
    "editable": false,
    "nbgrader": {
     "checksum": "ba6add4610668b06fac097e7e475dfae",
     "grade": false,
     "grade_id": "cell-76f997c0b06d5439",
     "locked": true,
     "schema_version": 1,
     "solution": false
    }
   },
   "outputs": [
    {
     "name": "stdout",
     "output_type": "stream",
     "text": [
      " * @/home/jovyan/data_readonly/sqlite/databases/publications.db\n",
      " * sqlite:////home/jovyan/data_readonly/sqlite/databases/publications.db\n",
      "Done.\n"
     ]
    },
    {
     "data": {
      "text/html": [
       "<table>\n",
       "    <tr>\n",
       "        <th>pid</th>\n",
       "        <th>authors</th>\n",
       "        <th>year</th>\n",
       "        <th>title</th>\n",
       "        <th>journal</th>\n",
       "        <th>vol</th>\n",
       "        <th>no</th>\n",
       "        <th>fp</th>\n",
       "        <th>lp</th>\n",
       "        <th>publisher</th>\n",
       "    </tr>\n",
       "    <tr>\n",
       "        <td>6755</td>\n",
       "        <td>hyatt</td>\n",
       "        <td>1872</td>\n",
       "        <td>fossil</td>\n",
       "        <td>bullmcz</td>\n",
       "        <td>5</td>\n",
       "        <td>5</td>\n",
       "        <td>91</td>\n",
       "        <td>9</td>\n",
       "        <td>publisher1</td>\n",
       "    </tr>\n",
       "</table>"
      ],
      "text/plain": [
       "[(6755, 'hyatt', 1872, 'fossil', 'bullmcz', 5, 5, 91, 9, 'publisher1')]"
      ]
     },
     "execution_count": 4,
     "metadata": {},
     "output_type": "execute_result"
    }
   ],
   "source": [
    "%%sql \n",
    "select * from Publication limit 1;"
   ]
  },
  {
   "cell_type": "code",
   "execution_count": 5,
   "metadata": {},
   "outputs": [
    {
     "name": "stdout",
     "output_type": "stream",
     "text": [
      " * @/home/jovyan/data_readonly/sqlite/databases/publications.db\n",
      " * sqlite:////home/jovyan/data_readonly/sqlite/databases/publications.db\n",
      "Done.\n"
     ]
    },
    {
     "data": {
      "text/html": [
       "<table>\n",
       "    <tr>\n",
       "        <th>citing</th>\n",
       "        <th>cited</th>\n",
       "    </tr>\n",
       "    <tr>\n",
       "        <td>4711</td>\n",
       "        <td>2020</td>\n",
       "    </tr>\n",
       "</table>"
      ],
      "text/plain": [
       "[(4711, 2020)]"
      ]
     },
     "execution_count": 5,
     "metadata": {},
     "output_type": "execute_result"
    }
   ],
   "source": [
    "%%sql \n",
    "select * from Cites limit 1;"
   ]
  },
  {
   "cell_type": "markdown",
   "metadata": {
    "deletable": false,
    "editable": false,
    "nbgrader": {
     "checksum": "be8a987fab0e28c29d58585d99b7be62",
     "grade": false,
     "grade_id": "cell-206a4fbfcf869ada",
     "locked": true,
     "schema_version": 1,
     "solution": false
    }
   },
   "source": [
    "## We will now write various queries to find \"bad\" (inconsistent) data. \n",
    "If output format is not clear from wording of the question, look at expected output and make your query return in same schema."
   ]
  },
  {
   "cell_type": "markdown",
   "metadata": {
    "deletable": false,
    "editable": false,
    "nbgrader": {
     "checksum": "eb5091d47d9f56aa97fa252d9df2a61a",
     "grade": false,
     "grade_id": "cell-fd46d4dce44ddfcd",
     "locked": true,
     "schema_version": 1,
     "solution": false
    }
   },
   "source": [
    "### [12 points] The key attribute ID should uniquely determine all other attributes.\n",
    "\n",
    "In DENIAL form we report all IC violations, i.e., where there are at least two rows having the same ID, but some differing attributes.\n"
   ]
  },
  {
   "cell_type": "code",
   "execution_count": 6,
   "metadata": {
    "deletable": false,
    "nbgrader": {
     "checksum": "ffc2b87338f2cb8001e2934d4edd572f",
     "grade": false,
     "grade_id": "cell-9ca43289e65ae87d",
     "locked": false,
     "schema_version": 1,
     "solution": true
    }
   },
   "outputs": [
    {
     "name": "stdout",
     "output_type": "stream",
     "text": [
      " * @/home/jovyan/data_readonly/sqlite/databases/publications.db\n",
      " * sqlite:////home/jovyan/data_readonly/sqlite/databases/publications.db\n",
      "Done.\n",
      "Saving data to local variable Problem2a_FD_1['result']\n",
      "Saving query to local variable Problem2a_FD_1['query']\n"
     ]
    },
    {
     "data": {
      "text/html": [
       "<table>\n",
       "    <tr>\n",
       "        <th>pid</th>\n",
       "        <th>authors</th>\n",
       "        <th>year</th>\n",
       "        <th>title</th>\n",
       "        <th>journal</th>\n",
       "        <th>vol</th>\n",
       "        <th>no</th>\n",
       "        <th>fp</th>\n",
       "        <th>lp</th>\n",
       "        <th>publisher</th>\n",
       "    </tr>\n",
       "    <tr>\n",
       "        <td>4407</td>\n",
       "        <td>kummel</td>\n",
       "        <td>1969</td>\n",
       "        <td>ammonoids</td>\n",
       "        <td>bullmcz</td>\n",
       "        <td>137</td>\n",
       "        <td>3</td>\n",
       "        <td>476</td>\n",
       "        <td>None</td>\n",
       "        <td>publisher2</td>\n",
       "    </tr>\n",
       "    <tr>\n",
       "        <td>4407</td>\n",
       "        <td>doe</td>\n",
       "        <td>2015</td>\n",
       "        <td>foobar</td>\n",
       "        <td>bullmcz</td>\n",
       "        <td>10</td>\n",
       "        <td>1</td>\n",
       "        <td>10</td>\n",
       "        <td>1</td>\n",
       "        <td>None</td>\n",
       "    </tr>\n",
       "</table>"
      ],
      "text/plain": [
       "[(4407, 'kummel', 1969, 'ammonoids', 'bullmcz', 137, 3, 476, None, 'publisher2'),\n",
       " (4407, 'doe', 2015, 'foobar', 'bullmcz', 10, 1, 10, 1, None)]"
      ]
     },
     "execution_count": 6,
     "metadata": {},
     "output_type": "execute_result"
    }
   ],
   "source": [
    "%%sql\n",
    "Problem2a_FD_1 <<\n",
    "-- Your query here. Don't change variable name.\n",
    "SELECT * \n",
    "FROM Publication\n",
    "WHERE pid IN (\n",
    "    SELECT pid \n",
    "    FROM Publication\n",
    "    GROUP BY pid\n",
    "    HAVING COUNT (*) > 1\n",
    ")"
   ]
  },
  {
   "cell_type": "code",
   "execution_count": 7,
   "metadata": {
    "deletable": false,
    "editable": false,
    "nbgrader": {
     "checksum": "b267e6e834ca198705c6a094b41871ac",
     "grade": false,
     "grade_id": "cell-528754d512ddbf85",
     "locked": true,
     "schema_version": 1,
     "solution": false
    }
   },
   "outputs": [
    {
     "data": {
      "text/html": [
       "<table>\n",
       "    <tr>\n",
       "        <th>pid</th>\n",
       "        <th>authors</th>\n",
       "        <th>year</th>\n",
       "        <th>title</th>\n",
       "        <th>journal</th>\n",
       "        <th>vol</th>\n",
       "        <th>no</th>\n",
       "        <th>fp</th>\n",
       "        <th>lp</th>\n",
       "        <th>publisher</th>\n",
       "    </tr>\n",
       "    <tr>\n",
       "        <td>4407</td>\n",
       "        <td>kummel</td>\n",
       "        <td>1969</td>\n",
       "        <td>ammonoids</td>\n",
       "        <td>bullmcz</td>\n",
       "        <td>137</td>\n",
       "        <td>3</td>\n",
       "        <td>476</td>\n",
       "        <td>None</td>\n",
       "        <td>publisher2</td>\n",
       "    </tr>\n",
       "    <tr>\n",
       "        <td>4407</td>\n",
       "        <td>doe</td>\n",
       "        <td>2015</td>\n",
       "        <td>foobar</td>\n",
       "        <td>bullmcz</td>\n",
       "        <td>10</td>\n",
       "        <td>1</td>\n",
       "        <td>10</td>\n",
       "        <td>1</td>\n",
       "        <td>None</td>\n",
       "    </tr>\n",
       "</table>"
      ],
      "text/plain": [
       "[['4407',\n",
       "  'kummel',\n",
       "  '1969',\n",
       "  'ammonoids',\n",
       "  'bullmcz',\n",
       "  '137',\n",
       "  '3',\n",
       "  '476',\n",
       "  None,\n",
       "  'publisher2'],\n",
       " ['4407', 'doe', '2015', 'foobar', 'bullmcz', '10', '1', '10', '1', None]]"
      ]
     },
     "execution_count": 7,
     "metadata": {},
     "output_type": "execute_result"
    }
   ],
   "source": [
    "# Run this cell to see expected output of previous query\n",
    "%sql_expected_output Problem2a_FD_1"
   ]
  },
  {
   "cell_type": "code",
   "execution_count": 8,
   "metadata": {
    "deletable": false,
    "editable": false,
    "nbgrader": {
     "checksum": "11c3939a316d252fad9e3e366f6388ab",
     "grade": true,
     "grade_id": "cell-bf31eb5641278110",
     "locked": true,
     "points": 12,
     "schema_version": 1,
     "solution": false
    }
   },
   "outputs": [
    {
     "data": {
      "text/html": [
       "<p><font color=\"green\">Test passed.</font></p>"
      ],
      "text/plain": [
       "<IPython.core.display.HTML object>"
      ]
     },
     "metadata": {},
     "output_type": "display_data"
    }
   ],
   "source": [
    "# We evaluate your query to see if it gave expected output.\n",
    "%sql_evaluate Problem2a_FD_1"
   ]
  },
  {
   "cell_type": "markdown",
   "metadata": {
    "deletable": false,
    "editable": false,
    "nbgrader": {
     "checksum": "c43f5409928b8db646eaa4ff94d72c7e",
     "grade": false,
     "grade_id": "cell-99d2755289d892b2",
     "locked": true,
     "schema_version": 1,
     "solution": false
    }
   },
   "source": [
    "## [11 points] Every journal has a single publisher, i.e., Journal --> Publisher\n",
    "In denial mode, we report the journals which have multiple publishers, two publishers at a time."
   ]
  },
  {
   "cell_type": "code",
   "execution_count": 9,
   "metadata": {
    "deletable": false,
    "nbgrader": {
     "checksum": "64119f02011d9eb5c8b6fe36b58d0c23",
     "grade": false,
     "grade_id": "cell-ac417e6419c9325d",
     "locked": false,
     "schema_version": 1,
     "solution": true
    }
   },
   "outputs": [
    {
     "name": "stdout",
     "output_type": "stream",
     "text": [
      " * @/home/jovyan/data_readonly/sqlite/databases/publications.db\n",
      " * sqlite:////home/jovyan/data_readonly/sqlite/databases/publications.db\n",
      "Done.\n",
      "Saving data to local variable Problem2a_FD_2['result']\n",
      "Saving query to local variable Problem2a_FD_2['query']\n"
     ]
    },
    {
     "data": {
      "text/html": [
       "<table>\n",
       "    <tr>\n",
       "        <th>journal</th>\n",
       "        <th>publisher</th>\n",
       "    </tr>\n",
       "    <tr>\n",
       "        <td>bullmcz</td>\n",
       "        <td>publisher1</td>\n",
       "    </tr>\n",
       "    <tr>\n",
       "        <td>bullmcz</td>\n",
       "        <td>publisher2</td>\n",
       "    </tr>\n",
       "    <tr>\n",
       "        <td>bullmcz</td>\n",
       "        <td>None</td>\n",
       "    </tr>\n",
       "</table>"
      ],
      "text/plain": [
       "[('bullmcz', 'publisher1'), ('bullmcz', 'publisher2'), ('bullmcz', None)]"
      ]
     },
     "execution_count": 9,
     "metadata": {},
     "output_type": "execute_result"
    }
   ],
   "source": [
    "%%sql\n",
    "Problem2a_FD_2 <<\n",
    "-- Your query here. Don't change variable name.\n",
    "SELECT journal, publisher \n",
    "FROM Publication\n",
    "WHERE journal IN (\n",
    "    SELECT journal\n",
    "    FROM Publication\n",
    "    GROUP BY journal\n",
    "    HAVING COUNT (publisher) > 1\n",
    ")"
   ]
  },
  {
   "cell_type": "code",
   "execution_count": 10,
   "metadata": {
    "deletable": false,
    "editable": false,
    "nbgrader": {
     "checksum": "e74afc8779143e2a4ef7479648b5dc47",
     "grade": false,
     "grade_id": "cell-301331d0ce75662e",
     "locked": true,
     "schema_version": 1,
     "solution": false
    }
   },
   "outputs": [
    {
     "data": {
      "text/html": [
       "<table>\n",
       "    <tr>\n",
       "        <th>journal</th>\n",
       "        <th>publisher</th>\n",
       "    </tr>\n",
       "    <tr>\n",
       "        <td>bullmcz</td>\n",
       "        <td>publisher1</td>\n",
       "    </tr>\n",
       "    <tr>\n",
       "        <td>bullmcz</td>\n",
       "        <td>publisher2</td>\n",
       "    </tr>\n",
       "    <tr>\n",
       "        <td>bullmcz</td>\n",
       "        <td>None</td>\n",
       "    </tr>\n",
       "</table>"
      ],
      "text/plain": [
       "[['bullmcz', 'publisher1'], ['bullmcz', 'publisher2'], ['bullmcz', None]]"
      ]
     },
     "execution_count": 10,
     "metadata": {},
     "output_type": "execute_result"
    }
   ],
   "source": [
    "# Run this cell to see expected output of previous query\n",
    "%sql_expected_output Problem2a_FD_2"
   ]
  },
  {
   "cell_type": "code",
   "execution_count": 11,
   "metadata": {
    "deletable": false,
    "editable": false,
    "nbgrader": {
     "checksum": "fa7890d7f0ffcd5e4769415c43d9b5d1",
     "grade": true,
     "grade_id": "cell-f28be765e8212235",
     "locked": true,
     "points": 11,
     "schema_version": 1,
     "solution": false
    }
   },
   "outputs": [
    {
     "data": {
      "text/html": [
       "<p><font color=\"green\">Test passed.</font></p>"
      ],
      "text/plain": [
       "<IPython.core.display.HTML object>"
      ]
     },
     "metadata": {},
     "output_type": "display_data"
    }
   ],
   "source": [
    "# We evaluate your query to see if it gave expected output.\n",
    "%sql_evaluate Problem2a_FD_2"
   ]
  },
  {
   "cell_type": "markdown",
   "metadata": {
    "deletable": false,
    "editable": false,
    "nbgrader": {
     "checksum": "bf9f8cee93a6e6feea94781f1b15d13b",
     "grade": false,
     "grade_id": "cell-3ff0254233136125",
     "locked": true,
     "schema_version": 1,
     "solution": false
    }
   },
   "source": [
    "### [11 points] The last page cannot be smaller than the first page.\n",
    "In DENIAL form, we report the ones for which last page is smaller than first."
   ]
  },
  {
   "cell_type": "code",
   "execution_count": 12,
   "metadata": {
    "deletable": false,
    "nbgrader": {
     "checksum": "cef59eea286892793dfeda565abf8f8d",
     "grade": false,
     "grade_id": "cell-860181d720a835da",
     "locked": false,
     "schema_version": 1,
     "solution": true
    }
   },
   "outputs": [
    {
     "name": "stdout",
     "output_type": "stream",
     "text": [
      " * @/home/jovyan/data_readonly/sqlite/databases/publications.db\n",
      " * sqlite:////home/jovyan/data_readonly/sqlite/databases/publications.db\n",
      "Done.\n",
      "Saving data to local variable Problem2a_NC_1['result']\n",
      "Saving query to local variable Problem2a_NC_1['query']\n"
     ]
    },
    {
     "data": {
      "text/html": [
       "<table>\n",
       "    <tr>\n",
       "        <th>pid</th>\n",
       "        <th>authors</th>\n",
       "        <th>year</th>\n",
       "        <th>title</th>\n",
       "        <th>journal</th>\n",
       "        <th>vol</th>\n",
       "        <th>no</th>\n",
       "        <th>fp</th>\n",
       "        <th>lp</th>\n",
       "        <th>publisher</th>\n",
       "    </tr>\n",
       "    <tr>\n",
       "        <td>6755</td>\n",
       "        <td>hyatt</td>\n",
       "        <td>1872</td>\n",
       "        <td>fossil</td>\n",
       "        <td>bullmcz</td>\n",
       "        <td>5</td>\n",
       "        <td>5</td>\n",
       "        <td>91</td>\n",
       "        <td>9</td>\n",
       "        <td>publisher1</td>\n",
       "    </tr>\n",
       "    <tr>\n",
       "        <td>4407</td>\n",
       "        <td>doe</td>\n",
       "        <td>2015</td>\n",
       "        <td>foobar</td>\n",
       "        <td>bullmcz</td>\n",
       "        <td>10</td>\n",
       "        <td>1</td>\n",
       "        <td>10</td>\n",
       "        <td>1</td>\n",
       "        <td>None</td>\n",
       "    </tr>\n",
       "</table>"
      ],
      "text/plain": [
       "[(6755, 'hyatt', 1872, 'fossil', 'bullmcz', 5, 5, 91, 9, 'publisher1'),\n",
       " (4407, 'doe', 2015, 'foobar', 'bullmcz', 10, 1, 10, 1, None)]"
      ]
     },
     "execution_count": 12,
     "metadata": {},
     "output_type": "execute_result"
    }
   ],
   "source": [
    "%%sql\n",
    "Problem2a_NC_1 <<\n",
    "-- Your query here. Don't change variable name.\n",
    "SELECT *\n",
    "FROM Publication\n",
    "WHERE lp < fp;\n"
   ]
  },
  {
   "cell_type": "code",
   "execution_count": 13,
   "metadata": {
    "deletable": false,
    "editable": false,
    "nbgrader": {
     "checksum": "898d29cd8c2de412f4a0e111ddbe515b",
     "grade": false,
     "grade_id": "cell-65d0fbbb61359f07",
     "locked": true,
     "schema_version": 1,
     "solution": false
    }
   },
   "outputs": [
    {
     "data": {
      "text/html": [
       "<table>\n",
       "    <tr>\n",
       "        <th>pid</th>\n",
       "        <th>authors</th>\n",
       "        <th>year</th>\n",
       "        <th>title</th>\n",
       "        <th>journal</th>\n",
       "        <th>vol</th>\n",
       "        <th>no</th>\n",
       "        <th>fp</th>\n",
       "        <th>lp</th>\n",
       "        <th>publisher</th>\n",
       "    </tr>\n",
       "    <tr>\n",
       "        <td>6755</td>\n",
       "        <td>hyatt</td>\n",
       "        <td>1872</td>\n",
       "        <td>fossil</td>\n",
       "        <td>bullmcz</td>\n",
       "        <td>5</td>\n",
       "        <td>5</td>\n",
       "        <td>91</td>\n",
       "        <td>9</td>\n",
       "        <td>publisher1</td>\n",
       "    </tr>\n",
       "    <tr>\n",
       "        <td>4407</td>\n",
       "        <td>doe</td>\n",
       "        <td>2015</td>\n",
       "        <td>foobar</td>\n",
       "        <td>bullmcz</td>\n",
       "        <td>10</td>\n",
       "        <td>1</td>\n",
       "        <td>10</td>\n",
       "        <td>1</td>\n",
       "        <td>None</td>\n",
       "    </tr>\n",
       "</table>"
      ],
      "text/plain": [
       "[['6755',\n",
       "  'hyatt',\n",
       "  '1872',\n",
       "  'fossil',\n",
       "  'bullmcz',\n",
       "  '5',\n",
       "  '5',\n",
       "  '91',\n",
       "  '9',\n",
       "  'publisher1'],\n",
       " ['4407', 'doe', '2015', 'foobar', 'bullmcz', '10', '1', '10', '1', None]]"
      ]
     },
     "execution_count": 13,
     "metadata": {},
     "output_type": "execute_result"
    }
   ],
   "source": [
    "# Run this cell to see expected output of previous query\n",
    "%sql_expected_output Problem2a_NC_1"
   ]
  },
  {
   "cell_type": "code",
   "execution_count": 14,
   "metadata": {
    "deletable": false,
    "editable": false,
    "nbgrader": {
     "checksum": "b45bf3c62e544430f5fa8afc8379e0ad",
     "grade": true,
     "grade_id": "cell-eada1e69a8175898",
     "locked": true,
     "points": 11,
     "schema_version": 1,
     "solution": false
    }
   },
   "outputs": [
    {
     "data": {
      "text/html": [
       "<p><font color=\"green\">Test passed.</font></p>"
      ],
      "text/plain": [
       "<IPython.core.display.HTML object>"
      ]
     },
     "metadata": {},
     "output_type": "display_data"
    }
   ],
   "source": [
    "# We evaluate your query to see if it gave expected output.\n",
    "%sql_evaluate Problem2a_NC_1"
   ]
  },
  {
   "cell_type": "markdown",
   "metadata": {
    "deletable": false,
    "editable": false,
    "nbgrader": {
     "checksum": "9678374c2ded1a6a89a01fc232d98be2",
     "grade": false,
     "grade_id": "cell-7749a0ac34440335",
     "locked": true,
     "schema_version": 1,
     "solution": false
    }
   },
   "source": [
    "### [11 points] Inclusion Dependency: Every cited publication in CITES also occurs in PUBLICATION.\n",
    "\n",
    "In DENIAL form, we report those publications which are in CITES but not in PUBLICATION."
   ]
  },
  {
   "cell_type": "code",
   "execution_count": 15,
   "metadata": {
    "deletable": false,
    "nbgrader": {
     "checksum": "3678205c48edc2622cfb0ad3fa6d8f2c",
     "grade": false,
     "grade_id": "cell-f4f9b59b50dbb0e7",
     "locked": false,
     "schema_version": 1,
     "solution": true
    }
   },
   "outputs": [
    {
     "name": "stdout",
     "output_type": "stream",
     "text": [
      " * @/home/jovyan/data_readonly/sqlite/databases/publications.db\n",
      " * sqlite:////home/jovyan/data_readonly/sqlite/databases/publications.db\n",
      "Done.\n",
      "Saving data to local variable Problem2b_ID['result']\n",
      "Saving query to local variable Problem2b_ID['query']\n"
     ]
    },
    {
     "data": {
      "text/html": [
       "<table>\n",
       "    <tr>\n",
       "        <th>cited_but_not_in_Publication</th>\n",
       "    </tr>\n",
       "    <tr>\n",
       "        <td>2020</td>\n",
       "    </tr>\n",
       "    <tr>\n",
       "        <td>3799</td>\n",
       "    </tr>\n",
       "</table>"
      ],
      "text/plain": [
       "[(2020,), (3799,)]"
      ]
     },
     "execution_count": 15,
     "metadata": {},
     "output_type": "execute_result"
    }
   ],
   "source": [
    "%%sql\n",
    "Problem2b_ID <<\n",
    "-- Your query here. Don't change variable name.\n",
    "SELECT cited AS cited_but_not_in_Publication\n",
    "FROM Cites\n",
    "WHERE cited NOT IN (\n",
    "    SELECT pid\n",
    "    FROM Publication \n",
    ")"
   ]
  },
  {
   "cell_type": "code",
   "execution_count": 16,
   "metadata": {
    "deletable": false,
    "editable": false,
    "nbgrader": {
     "checksum": "dac5b407fc87c566d1a7c6deb6ca8181",
     "grade": false,
     "grade_id": "cell-84e5fb3097d9cb1b",
     "locked": true,
     "schema_version": 1,
     "solution": false
    }
   },
   "outputs": [
    {
     "data": {
      "text/html": [
       "<table>\n",
       "    <tr>\n",
       "        <th>cited_but_not_in_Publication</th>\n",
       "    </tr>\n",
       "    <tr>\n",
       "        <td>2020</td>\n",
       "    </tr>\n",
       "    <tr>\n",
       "        <td>3799</td>\n",
       "    </tr>\n",
       "</table>"
      ],
      "text/plain": [
       "[['2020'], ['3799']]"
      ]
     },
     "execution_count": 16,
     "metadata": {},
     "output_type": "execute_result"
    }
   ],
   "source": [
    "# Run this cell to see expected output of previous query\n",
    "%sql_expected_output Problem2b_ID"
   ]
  },
  {
   "cell_type": "code",
   "execution_count": 17,
   "metadata": {
    "deletable": false,
    "editable": false,
    "nbgrader": {
     "checksum": "3e6f8a85d8fd4f5d8f297380168d3b92",
     "grade": true,
     "grade_id": "cell-19f4bcbe1d9c673e",
     "locked": true,
     "points": 11,
     "schema_version": 1,
     "solution": false
    }
   },
   "outputs": [
    {
     "data": {
      "text/html": [
       "<p><font color=\"green\">Test passed.</font></p>"
      ],
      "text/plain": [
       "<IPython.core.display.HTML object>"
      ]
     },
     "metadata": {},
     "output_type": "display_data"
    }
   ],
   "source": [
    "# We evaluate your query to see if it gave expected output.\n",
    "%sql_evaluate Problem2b_ID"
   ]
  },
  {
   "cell_type": "markdown",
   "metadata": {
    "deletable": false,
    "editable": false,
    "nbgrader": {
     "checksum": "db8dcda924ba93260bcc48dbfa6aa885",
     "grade": false,
     "grade_id": "cell-9697aec6d571d5df",
     "locked": true,
     "schema_version": 1,
     "solution": false
    }
   },
   "source": [
    "### [11 points] If P1 cites P2 then P2's year of publication cannot be greater than P1."
   ]
  },
  {
   "cell_type": "code",
   "execution_count": 18,
   "metadata": {},
   "outputs": [
    {
     "name": "stdout",
     "output_type": "stream",
     "text": [
      " * @/home/jovyan/data_readonly/sqlite/databases/publications.db\n",
      " * sqlite:////home/jovyan/data_readonly/sqlite/databases/publications.db\n",
      "Done.\n"
     ]
    },
    {
     "data": {
      "text/html": [
       "<table>\n",
       "    <tr>\n",
       "        <th>pid</th>\n",
       "        <th>authors</th>\n",
       "        <th>year</th>\n",
       "        <th>title</th>\n",
       "        <th>journal</th>\n",
       "        <th>vol</th>\n",
       "        <th>no</th>\n",
       "        <th>fp</th>\n",
       "        <th>lp</th>\n",
       "        <th>publisher</th>\n",
       "    </tr>\n",
       "    <tr>\n",
       "        <td>6755</td>\n",
       "        <td>hyatt</td>\n",
       "        <td>1872</td>\n",
       "        <td>fossil</td>\n",
       "        <td>bullmcz</td>\n",
       "        <td>5</td>\n",
       "        <td>5</td>\n",
       "        <td>91</td>\n",
       "        <td>9</td>\n",
       "        <td>publisher1</td>\n",
       "    </tr>\n",
       "</table>"
      ],
      "text/plain": [
       "[(6755, 'hyatt', 1872, 'fossil', 'bullmcz', 5, 5, 91, 9, 'publisher1')]"
      ]
     },
     "execution_count": 18,
     "metadata": {},
     "output_type": "execute_result"
    }
   ],
   "source": [
    "%%sql \n",
    "select * from Publication limit 1;"
   ]
  },
  {
   "cell_type": "code",
   "execution_count": 19,
   "metadata": {},
   "outputs": [
    {
     "name": "stdout",
     "output_type": "stream",
     "text": [
      " * @/home/jovyan/data_readonly/sqlite/databases/publications.db\n",
      " * sqlite:////home/jovyan/data_readonly/sqlite/databases/publications.db\n",
      "Done.\n"
     ]
    },
    {
     "data": {
      "text/html": [
       "<table>\n",
       "    <tr>\n",
       "        <th>citing</th>\n",
       "        <th>cited</th>\n",
       "    </tr>\n",
       "    <tr>\n",
       "        <td>4711</td>\n",
       "        <td>2020</td>\n",
       "    </tr>\n",
       "</table>"
      ],
      "text/plain": [
       "[(4711, 2020)]"
      ]
     },
     "execution_count": 19,
     "metadata": {},
     "output_type": "execute_result"
    }
   ],
   "source": [
    "%%sql \n",
    "select * from Cites limit 1;"
   ]
  },
  {
   "cell_type": "code",
   "execution_count": 20,
   "metadata": {
    "deletable": false,
    "nbgrader": {
     "checksum": "38fea82d4626e2967ef26f0eeeb092dc",
     "grade": false,
     "grade_id": "cell-c4403316fcb3d1d0",
     "locked": false,
     "schema_version": 1,
     "solution": true
    }
   },
   "outputs": [
    {
     "name": "stdout",
     "output_type": "stream",
     "text": [
      " * @/home/jovyan/data_readonly/sqlite/databases/publications.db\n",
      " * sqlite:////home/jovyan/data_readonly/sqlite/databases/publications.db\n",
      "Done.\n",
      "Saving data to local variable Problem2b_NC_2['result']\n",
      "Saving query to local variable Problem2b_NC_2['query']\n"
     ]
    },
    {
     "data": {
      "text/html": [
       "<table>\n",
       "    <tr>\n",
       "        <th>citing</th>\n",
       "        <th>cited</th>\n",
       "        <th>citing_pub_year</th>\n",
       "        <th>cited_pub_year</th>\n",
       "    </tr>\n",
       "    <tr>\n",
       "        <td>2044</td>\n",
       "        <td>2580</td>\n",
       "        <td>1934</td>\n",
       "        <td>1962</td>\n",
       "    </tr>\n",
       "</table>"
      ],
      "text/plain": [
       "[(2044, 2580, 1934, 1962)]"
      ]
     },
     "execution_count": 20,
     "metadata": {},
     "output_type": "execute_result"
    }
   ],
   "source": [
    "%%sql\n",
    "Problem2b_NC_2 <<\n",
    "-- Your query here. Don't change variable name.\n",
    "-- report \n",
    "SELECT P1.pid AS citing, P2.pid AS cited, P1.year AS citing_pub_year, P2.year AS cited_pub_year\n",
    "FROM (SELECT * FROM Cites JOIN Publication ON Cites.citing = Publication.pid) P1\n",
    "JOIN (SELECT * FROM Cites JOIN Publication ON Cites.citing = Publication.pid) P2\n",
    "ON P1.cited = P2.pid\n",
    "WHERE P1.year < P2.year\n"
   ]
  },
  {
   "cell_type": "code",
   "execution_count": 21,
   "metadata": {
    "deletable": false,
    "editable": false,
    "nbgrader": {
     "checksum": "3169f49a7364c98b216d8987d7f69079",
     "grade": false,
     "grade_id": "cell-0c37f080b3134428",
     "locked": true,
     "schema_version": 1,
     "solution": false
    }
   },
   "outputs": [
    {
     "data": {
      "text/html": [
       "<table>\n",
       "    <tr>\n",
       "        <th>citing</th>\n",
       "        <th>cited</th>\n",
       "        <th>citing_pub_year</th>\n",
       "        <th>cited_pub_year</th>\n",
       "    </tr>\n",
       "    <tr>\n",
       "        <td>2044</td>\n",
       "        <td>2580</td>\n",
       "        <td>1934</td>\n",
       "        <td>1962</td>\n",
       "    </tr>\n",
       "</table>"
      ],
      "text/plain": [
       "[['2044', '2580', '1934', '1962']]"
      ]
     },
     "execution_count": 21,
     "metadata": {},
     "output_type": "execute_result"
    }
   ],
   "source": [
    "# Run this cell to see expected output of previous query\n",
    "%sql_expected_output Problem2b_NC_2"
   ]
  },
  {
   "cell_type": "code",
   "execution_count": 22,
   "metadata": {
    "deletable": false,
    "editable": false,
    "nbgrader": {
     "checksum": "43449d3c395c9b6b731e1c7eb66ecba0",
     "grade": true,
     "grade_id": "cell-7eab4f27c5f81536",
     "locked": true,
     "points": 11,
     "schema_version": 1,
     "solution": false
    }
   },
   "outputs": [
    {
     "data": {
      "text/html": [
       "<p><font color=\"green\">Test passed.</font></p>"
      ],
      "text/plain": [
       "<IPython.core.display.HTML object>"
      ]
     },
     "metadata": {},
     "output_type": "display_data"
    }
   ],
   "source": [
    "# We evaluate your query to see if it gave expected output.\n",
    "%sql_evaluate Problem2b_NC_2"
   ]
  },
  {
   "cell_type": "code",
   "execution_count": null,
   "metadata": {},
   "outputs": [],
   "source": []
  }
 ],
 "metadata": {
  "coursera": {
   "course_slug": "cs-513",
   "graded_item_id": "TWCdQ",
   "launcher_item_id": "1v4Ck",
   "part_id": "LiyI0"
  },
  "kernelspec": {
   "display_name": "Python 3",
   "language": "python",
   "name": "python3"
  },
  "language_info": {
   "codemirror_mode": {
    "name": "ipython",
    "version": 3
   },
   "file_extension": ".py",
   "mimetype": "text/x-python",
   "name": "python",
   "nbconvert_exporter": "python",
   "pygments_lexer": "ipython3",
   "version": "3.6.8"
  }
 },
 "nbformat": 4,
 "nbformat_minor": 2
}
