{
 "cells": [
  {
   "cell_type": "markdown",
   "metadata": {},
   "source": [
    "Before you turn this problem in, make sure everything runs as expected. First, **restart the kernel** (in the menubar, select Kernel$\\rightarrow$Restart) and then **run all cells** (in the menubar, select Cell$\\rightarrow$Run All).\n",
    "\n",
    "Make sure you fill in any place that says `YOUR CODE HERE` or \"YOUR ANSWER HERE\", as well as your name and collaborators below:"
   ]
  },
  {
   "cell_type": "code",
   "execution_count": null,
   "metadata": {},
   "outputs": [],
   "source": [
    "NAME = \"\"\n",
    "COLLABORATORS = \"\""
   ]
  },
  {
   "cell_type": "markdown",
   "metadata": {},
   "source": [
    "---"
   ]
  },
  {
   "cell_type": "markdown",
   "metadata": {
    "deletable": false,
    "editable": false,
    "nbgrader": {
     "checksum": "d3773684593c50e279112b9b18bd20e8",
     "grade": false,
     "grade_id": "cell-f26dfa4a80c90478",
     "locked": true,
     "schema_version": 1,
     "solution": false
    }
   },
   "source": [
    "# Few points about test cases and grading.\n",
    "* Each regex is worth 12.5 points and entire problem is worth 12.5*2 = 25.\n",
    "* Each regex will be checked against 10 test cases for correctness, and each test case will be worth 1.25 points.\n",
    "* We will test your regular expressions both against positive and negative examples i.e. not only we will check that your regex is matching what is supposed to, we will also check that it is not matching something it is not supposed to.\n",
    "* For you to test and verify your regular expressions, we will provide two test cases each of positive and negative matches. However, you are free to make up more test cases of your own. These four test cases will be worth 1.25*4 = 5 points\n",
    "* After submission, we will run your regex against three test cases each of positive and negative matches. These six test cases will be worth 1.25*6 = 7.5 points.\n",
    "* Hence, total points for one regex are 5+7.5 = 12.5 points.\n",
    "\n",
    "You will write regexes as Python raw strings, and we will use Python as regex engine.\n",
    "\n",
    "# Regex to match IP Addresses\n",
    "\n",
    "An Internet Protocol (IP) address is a sequence of 4 numbers (between 0 and 255), using a single dot ‘.’ as a separator: e.g., 172.16.254.1 or 127.0.0.1 are valid IPs (more precisely IPv4) addresses.\n",
    "\n",
    "We will write two regular expressions to match IP addresses.  \n",
    "a. A regular expression that matches IP addresses. Here you don’t have to check that the numbers are in the range of 0 to 255. Try to keep it simple!  \n",
    "b. Develop a more precise regex that also makes sure that examples such as 302.207.451.22 are not matched."
   ]
  },
  {
   "cell_type": "code",
   "execution_count": null,
   "metadata": {
    "deletable": false,
    "editable": false,
    "nbgrader": {
     "checksum": "d118ffde4c8fd72c7caff195a59123f6",
     "grade": false,
     "grade_id": "cell-901b455cc3381387",
     "locked": true,
     "schema_version": 1,
     "solution": false
    }
   },
   "outputs": [],
   "source": [
    "import re\n",
    "from lib.regex.regex_test import test_positive, test_negative"
   ]
  },
  {
   "cell_type": "markdown",
   "metadata": {
    "deletable": false,
    "editable": false,
    "nbgrader": {
     "checksum": "766db51c7490ad7d1b12adc54e557be6",
     "grade": false,
     "grade_id": "cell-ec9085c5dd7cb1b2",
     "locked": true,
     "schema_version": 1,
     "solution": false
    }
   },
   "source": [
    "### [12.5 points] Part a. \n",
    "#### Write a regular expression that matches IP addresses. Here you don’t have to check that the numbers are in the range of 0 to 255. Try to keep it simple!"
   ]
  },
  {
   "cell_type": "code",
   "execution_count": null,
   "metadata": {
    "deletable": false,
    "nbgrader": {
     "checksum": "15386959297053397c0ebfc70864fc2c",
     "grade": false,
     "grade_id": "cell-c0086d1ff8149b6d",
     "locked": false,
     "schema_version": 1,
     "solution": true
    }
   },
   "outputs": [],
   "source": [
    "# Modify your regex below\n",
    "ip_regex1 = r'\\b\\d{1,3}\\.\\d{1,3}\\.\\d{1,3}\\.\\d{1,3}\\b'"
   ]
  },
  {
   "cell_type": "code",
   "execution_count": null,
   "metadata": {
    "deletable": false,
    "editable": false,
    "nbgrader": {
     "checksum": "0dd742316f69f0cea76901a38e46de79",
     "grade": true,
     "grade_id": "cell-3e5560fd043334f1",
     "locked": true,
     "points": 1.25,
     "schema_version": 1,
     "solution": false
    }
   },
   "outputs": [],
   "source": [
    "# [1.25 points] Part a. Positive test case 1. Your regex should match 1.2.3.4\n",
    "positive_test_case = r'1.2.3.4'\n",
    "\n",
    "test_positive(ip_regex1, positive_test_case)\n",
    "del positive_test_case"
   ]
  },
  {
   "cell_type": "code",
   "execution_count": null,
   "metadata": {
    "deletable": false,
    "editable": false,
    "nbgrader": {
     "checksum": "e3d02c3aedf170eaed12d7fc10ba55ac",
     "grade": true,
     "grade_id": "cell-3d14f886d26adad2",
     "locked": true,
     "points": 1.25,
     "schema_version": 1,
     "solution": false
    }
   },
   "outputs": [],
   "source": [
    "# [1.25 points] Part a. Positive test case 2. Your regex should match 192.168.0.1\n",
    "positive_test_case = r'192.168.0.1'\n",
    "\n",
    "test_positive(ip_regex1, positive_test_case)\n",
    "del positive_test_case"
   ]
  },
  {
   "cell_type": "code",
   "execution_count": null,
   "metadata": {
    "deletable": false,
    "editable": false,
    "nbgrader": {
     "checksum": "935369ff8b962dafd8f81d3c71581cab",
     "grade": true,
     "grade_id": "cell-96c0a18166d76bd9",
     "locked": true,
     "points": 1.25,
     "schema_version": 1,
     "solution": false
    }
   },
   "outputs": [],
   "source": [
    "# [1.25 points] Part a. Negative test case 1. Your regex should not match 1\n",
    "negative_test_case = r'1'\n",
    "\n",
    "test_negative(ip_regex1, negative_test_case)\n",
    "del negative_test_case"
   ]
  },
  {
   "cell_type": "code",
   "execution_count": null,
   "metadata": {
    "deletable": false,
    "editable": false,
    "nbgrader": {
     "checksum": "c46c1aee532eb3c748645ddb31728187",
     "grade": true,
     "grade_id": "cell-cf81f0591c5b3f74",
     "locked": true,
     "points": 1.25,
     "schema_version": 1,
     "solution": false
    }
   },
   "outputs": [],
   "source": [
    "# [1.25 points] Part a. Negative test case 2. Your regex should not match 1.2.3\n",
    "negative_test_case = r'1.2.3'\n",
    "\n",
    "test_negative(ip_regex1, negative_test_case)\n",
    "del negative_test_case"
   ]
  },
  {
   "cell_type": "markdown",
   "metadata": {
    "deletable": false,
    "editable": false,
    "nbgrader": {
     "checksum": "e74c32543adada7d6cc4a8ed370e5a29",
     "grade": false,
     "grade_id": "cell-625edb57ac4388e6",
     "locked": true,
     "schema_version": 1,
     "solution": false
    }
   },
   "source": [
    "### [12.5 points] Part b. \n",
    "#### Now develop a more precise regex that also makes sure that examples such as 302.207.451.22 are not matched."
   ]
  },
  {
   "cell_type": "code",
   "execution_count": null,
   "metadata": {
    "deletable": false,
    "nbgrader": {
     "checksum": "4357c8d3d8ae3ceed5cdc6e961c7b179",
     "grade": false,
     "grade_id": "cell-8ffc79f4c26aa71e",
     "locked": false,
     "schema_version": 1,
     "solution": true
    }
   },
   "outputs": [],
   "source": [
    "# Modify your regex below\n",
    "ip_regex2 = r'\\b(25[0-5]|2[0-4][0-9]|[01]?[0-9][0-9]?)\\.(25[0-5]|2[0-4][0-9]|[01]?[0-9][0-9]?)\\.(25[0-5]|2[0-4][0-9]|[01]?[0-9][0-9]?)\\.(25[0-5]|2[0-4][0-9]|[01]?[0-9][0-9]?)\\b'\n"
   ]
  },
  {
   "cell_type": "code",
   "execution_count": null,
   "metadata": {
    "deletable": false,
    "editable": false,
    "nbgrader": {
     "checksum": "6aaded0e831aab69b4d0f0da299640de",
     "grade": true,
     "grade_id": "cell-f313c2d8df3e6b36",
     "locked": true,
     "points": 1.25,
     "schema_version": 1,
     "solution": false
    }
   },
   "outputs": [],
   "source": [
    "# [1.25 points] Part b. Positive test case 1. Your regex should match 192.168.0.1\n",
    "positive_test_case = r'192.168.0.1'\n",
    "\n",
    "test_positive(ip_regex2, positive_test_case)\n",
    "del positive_test_case"
   ]
  },
  {
   "cell_type": "code",
   "execution_count": null,
   "metadata": {
    "deletable": false,
    "editable": false,
    "nbgrader": {
     "checksum": "71da663647c618ea392beee23392d1c6",
     "grade": true,
     "grade_id": "cell-a6fc86f7414405f4",
     "locked": true,
     "points": 1.25,
     "schema_version": 1,
     "solution": false
    }
   },
   "outputs": [],
   "source": [
    "# [1.25 points] Part b. Positive test case 2. Your regex should match 0.0.0.0\n",
    "positive_test_case = r'0.0.0.0'\n",
    "\n",
    "test_positive(ip_regex2, positive_test_case)\n",
    "del positive_test_case"
   ]
  },
  {
   "cell_type": "code",
   "execution_count": null,
   "metadata": {
    "deletable": false,
    "editable": false,
    "nbgrader": {
     "checksum": "0deb28896e5c3640e39f661acd76a437",
     "grade": true,
     "grade_id": "cell-a05ec0188d17dc6e",
     "locked": true,
     "points": 1.25,
     "schema_version": 1,
     "solution": false
    }
   },
   "outputs": [],
   "source": [
    "# [1.25 points] Part b. Negative test case 1. Your regex should not match 100.200.300.400 \n",
    "negative_test_case = r'100.200.300.400'\n",
    "\n",
    "test_negative(ip_regex2, negative_test_case)\n",
    "del negative_test_case"
   ]
  },
  {
   "cell_type": "code",
   "execution_count": null,
   "metadata": {
    "deletable": false,
    "editable": false,
    "nbgrader": {
     "checksum": "610d76103a155f291d2362959d8b231f",
     "grade": true,
     "grade_id": "cell-dac6998cc08a1cd4",
     "locked": true,
     "points": 1.25,
     "schema_version": 1,
     "solution": false
    }
   },
   "outputs": [],
   "source": [
    "# [1.25 points] Part b. Negative test case 2. Your regex should not match 192.168.0.256\n",
    "negative_test_case = r'192.168.0.256'\n",
    "\n",
    "test_negative(ip_regex2, negative_test_case)\n",
    "del negative_test_case"
   ]
  },
  {
   "cell_type": "markdown",
   "metadata": {
    "deletable": false,
    "editable": false,
    "nbgrader": {
     "checksum": "9d6eafd7eaf8334bb0d8158cc3efc236",
     "grade": false,
     "grade_id": "cell-5e472347f7018f44",
     "locked": true,
     "schema_version": 1,
     "solution": false
    }
   },
   "source": [
    "### Hidden test cases.\n",
    "Rest of the notebook contains hidden test cases for both regular expressions. These test cases will be omitted from student's version of the notebook. Following cells will always pass for students and will only be evaluated after submission."
   ]
  },
  {
   "cell_type": "code",
   "execution_count": null,
   "metadata": {
    "deletable": false,
    "editable": false,
    "nbgrader": {
     "checksum": "624c3b5b5ca992c03cfcdc2491f840d8",
     "grade": true,
     "grade_id": "cell-3c0042640d255b2e",
     "locked": true,
     "points": 1.25,
     "schema_version": 1,
     "solution": false
    }
   },
   "outputs": [],
   "source": [
    "# [1.25 points] Part a. Positive test case 3.\n",
    "# Omitted from student's version of notebook.\n"
   ]
  },
  {
   "cell_type": "code",
   "execution_count": null,
   "metadata": {
    "deletable": false,
    "editable": false,
    "nbgrader": {
     "checksum": "457ec58662ba62bb926c9a6faa6aa89a",
     "grade": true,
     "grade_id": "cell-5f4bebc160a27193",
     "locked": true,
     "points": 1.25,
     "schema_version": 1,
     "solution": false
    }
   },
   "outputs": [],
   "source": [
    "# [1.25 points] Part a. Positive test case 4.\n",
    "# Omitted from student's version of notebook.\n"
   ]
  },
  {
   "cell_type": "code",
   "execution_count": null,
   "metadata": {
    "deletable": false,
    "editable": false,
    "nbgrader": {
     "checksum": "42e3a7b6e27edddfeb89b61ce5e15510",
     "grade": true,
     "grade_id": "cell-cab18548725d5892",
     "locked": true,
     "points": 1.25,
     "schema_version": 1,
     "solution": false
    }
   },
   "outputs": [],
   "source": [
    "# [1.25 points] Part a. Positive test case 5.\n",
    "# Omitted from student's version of notebook.\n"
   ]
  },
  {
   "cell_type": "code",
   "execution_count": null,
   "metadata": {
    "deletable": false,
    "editable": false,
    "nbgrader": {
     "checksum": "12642f379af33c0d8ccc952683eb164a",
     "grade": true,
     "grade_id": "cell-a9ab642a58f47af1",
     "locked": true,
     "points": 1.25,
     "schema_version": 1,
     "solution": false
    }
   },
   "outputs": [],
   "source": [
    "# [1.25 points] Part a. Negative test case 3.\n",
    "# Omitted from student's version of notebook.\n"
   ]
  },
  {
   "cell_type": "code",
   "execution_count": null,
   "metadata": {
    "deletable": false,
    "editable": false,
    "nbgrader": {
     "checksum": "8707a5517b93f63c48e616a1e303b77b",
     "grade": true,
     "grade_id": "cell-56780119e214a1d0",
     "locked": true,
     "points": 1.25,
     "schema_version": 1,
     "solution": false
    }
   },
   "outputs": [],
   "source": [
    "# [1.25 points] Part a. Negative test case 4.\n",
    "# Omitted from student's version of notebook.\n"
   ]
  },
  {
   "cell_type": "code",
   "execution_count": null,
   "metadata": {
    "deletable": false,
    "editable": false,
    "nbgrader": {
     "checksum": "ac7390ee4d796f9c0cd8c62a5cbf0693",
     "grade": true,
     "grade_id": "cell-a1be32b3c327b84c",
     "locked": true,
     "points": 1.25,
     "schema_version": 1,
     "solution": false
    }
   },
   "outputs": [],
   "source": [
    "# [1.25 points] Part a. Negative test case 5.\n",
    "# Omitted from student's version of notebook.\n"
   ]
  },
  {
   "cell_type": "code",
   "execution_count": null,
   "metadata": {
    "deletable": false,
    "editable": false,
    "nbgrader": {
     "checksum": "619e620881d007aa6c2946ab5e7c72d6",
     "grade": true,
     "grade_id": "cell-a8fe54ff1ec11ae4",
     "locked": true,
     "points": 1.25,
     "schema_version": 1,
     "solution": false
    }
   },
   "outputs": [],
   "source": [
    "# [1.25 points] Part b. Positive test case 3.\n",
    "# Omitted from student's version of notebook.\n"
   ]
  },
  {
   "cell_type": "code",
   "execution_count": null,
   "metadata": {
    "deletable": false,
    "editable": false,
    "nbgrader": {
     "checksum": "948f5506c598ba69c60eced39cda3a3b",
     "grade": true,
     "grade_id": "cell-e014a381834c17dc",
     "locked": true,
     "points": 1.25,
     "schema_version": 1,
     "solution": false
    }
   },
   "outputs": [],
   "source": [
    "# [1.25 points] Part b. Positive test case 4.\n",
    "# Omitted from student's version of notebook.\n"
   ]
  },
  {
   "cell_type": "code",
   "execution_count": null,
   "metadata": {
    "deletable": false,
    "editable": false,
    "nbgrader": {
     "checksum": "6e2df8a7f050acf54751c39ac4ee5f34",
     "grade": true,
     "grade_id": "cell-eb3472e45856778a",
     "locked": true,
     "points": 1.25,
     "schema_version": 1,
     "solution": false
    }
   },
   "outputs": [],
   "source": [
    "# [1.25 points] Part b. Positive test case 5.\n",
    "# Omitted from student's version of notebook.\n"
   ]
  },
  {
   "cell_type": "code",
   "execution_count": null,
   "metadata": {
    "deletable": false,
    "editable": false,
    "nbgrader": {
     "checksum": "5f31c78518c987078d9a7c0248e5e91b",
     "grade": true,
     "grade_id": "cell-b45d5b5639f7228c",
     "locked": true,
     "points": 1.25,
     "schema_version": 1,
     "solution": false
    }
   },
   "outputs": [],
   "source": [
    "# [1.25 points] Part b. Negative test case 3.\n",
    "# Omitted from student's version of notebook.\n"
   ]
  },
  {
   "cell_type": "code",
   "execution_count": null,
   "metadata": {
    "deletable": false,
    "editable": false,
    "nbgrader": {
     "checksum": "4a7bbe0cec9486e6e171b408e9d227b4",
     "grade": true,
     "grade_id": "cell-3dd57ac1fba4f7ea",
     "locked": true,
     "points": 1.25,
     "schema_version": 1,
     "solution": false
    }
   },
   "outputs": [],
   "source": [
    "# [1.25 points] Part b. Negative test case 4.\n",
    "# Omitted from student's version of notebook.\n"
   ]
  },
  {
   "cell_type": "code",
   "execution_count": null,
   "metadata": {
    "deletable": false,
    "editable": false,
    "nbgrader": {
     "checksum": "3c496597ba2945c1e799dc3354292d23",
     "grade": true,
     "grade_id": "cell-cf5934ced43c5e8e",
     "locked": true,
     "points": 1.25,
     "schema_version": 1,
     "solution": false
    }
   },
   "outputs": [],
   "source": [
    "# [1.25 points] Part b. Negative test case 5.\n",
    "# Omitted from student's version of notebook.\n"
   ]
  },
  {
   "cell_type": "code",
   "execution_count": null,
   "metadata": {},
   "outputs": [],
   "source": []
  }
 ],
 "metadata": {
  "coursera": {
   "course_slug": "cs-513",
   "graded_item_id": "rjLEj",
   "launcher_item_id": "gmrzp",
   "part_id": "DLMO1"
  },
  "kernelspec": {
   "display_name": "Python 3",
   "language": "python",
   "name": "python3"
  },
  "language_info": {
   "codemirror_mode": {
    "name": "ipython",
    "version": 3
   },
   "file_extension": ".py",
   "mimetype": "text/x-python",
   "name": "python",
   "nbconvert_exporter": "python",
   "pygments_lexer": "ipython3",
   "version": "3.6.8"
  }
 },
 "nbformat": 4,
 "nbformat_minor": 2
}
