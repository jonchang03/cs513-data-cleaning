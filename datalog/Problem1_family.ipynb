{
 "cells": [
  {
   "cell_type": "markdown",
   "metadata": {},
   "source": [
    "Before you turn this problem in, make sure everything runs as expected. First, **restart the kernel** (in the menubar, select Kernel$\\rightarrow$Restart) and then **run all cells** (in the menubar, select Cell$\\rightarrow$Run All).\n",
    "\n",
    "Make sure you fill in any place that says `YOUR CODE HERE` or \"YOUR ANSWER HERE\", as well as your name and collaborators below:"
   ]
  },
  {
   "cell_type": "code",
   "execution_count": null,
   "metadata": {},
   "outputs": [],
   "source": [
    "NAME = \"\"\n",
    "COLLABORATORS = \"\""
   ]
  },
  {
   "cell_type": "markdown",
   "metadata": {},
   "source": [
    "---"
   ]
  },
  {
   "cell_type": "markdown",
   "metadata": {
    "deletable": false,
    "editable": false,
    "nbgrader": {
     "checksum": "f6755eee168aaf3c10e69395a68e4047",
     "grade": false,
     "grade_id": "cell-c31b0281ede8d436",
     "locked": true,
     "schema_version": 1,
     "solution": false
    }
   },
   "source": [
    "# In this problem we will use family dataset and write some datalog rules.\n",
    "\n",
    "## Few points:\n",
    "* Refer [Clingo with Jupyter Intro](Clingo_with_Jupyter_Intro.ipynb) before attempting this notebook.\n",
    "* It's important to run following cell first for rest of notebook to work.\n",
    "* It's always a good idea to run cells in order. In case you have run cells in jumbled order and would want to start fresh, restart kernel from menu above.\n",
    "* All clingo cells start with `%%clingo`.\n",
    "* You can run your clingo cell against some basic facts and rules from a file. `set_db_file $filepath` sets the file against which your clingo cells will run.\n",
    "* Each clingo cell is independent of others. Rules defined in one cell won't be available in others.\n",
    "* It's nice to be able to execute clingo from within your notebook but don't forget to practice from command line. `%%clingo` is just a thin wrapper over command line and it's best to know how to use the underlying tool.\n",
    "* Upon assignment submission, we will run your code against different set of facts. Please don't hardcode answers and save yourself the embarassment.\n",
    "\n",
    "### Good luck!!"
   ]
  },
  {
   "cell_type": "code",
   "execution_count": null,
   "metadata": {
    "deletable": false,
    "editable": false,
    "nbgrader": {
     "checksum": "875cee3adf4a9850107e54f9b3324399",
     "grade": false,
     "grade_id": "cell-aa25281cdb72aebe",
     "locked": true,
     "schema_version": 1,
     "solution": false
    }
   },
   "outputs": [],
   "source": [
    "%reload_ext lib.clingo.clingo_magic\n",
    "import os\n",
    "from lib.clingo.clingo_evaluate_util import clingo_evaluate"
   ]
  },
  {
   "cell_type": "code",
   "execution_count": null,
   "metadata": {
    "deletable": false,
    "editable": false,
    "nbgrader": {
     "checksum": "2ff8f32b0779e74ad699b70cd5b96c20",
     "grade": false,
     "grade_id": "cell-90dafc5e64354463",
     "locked": true,
     "schema_version": 1,
     "solution": false
    }
   },
   "outputs": [],
   "source": [
    "# All clingo cells will run against this file containing some base facts.\n",
    "family_base_facts_and_rules_file = os.path.expanduser('~/data_readonly/datalog/family_base.lp')\n",
    "%set_db_file $family_base_facts_and_rules_file"
   ]
  },
  {
   "cell_type": "markdown",
   "metadata": {
    "deletable": false,
    "editable": false,
    "nbgrader": {
     "checksum": "8e0dba8b2e90bddbd832c1eee52c7dfa",
     "grade": false,
     "grade_id": "cell-b34ebb53f491fd07",
     "locked": true,
     "schema_version": 1,
     "solution": false
    }
   },
   "source": [
    "## We will now write various rules one by one"
   ]
  },
  {
   "cell_type": "markdown",
   "metadata": {
    "deletable": false,
    "editable": false,
    "nbgrader": {
     "checksum": "f8ef2f5361779b6057cf1a7dff4a311f",
     "grade": false,
     "grade_id": "cell-c0c35d6badba74e8",
     "locked": true,
     "schema_version": 1,
     "solution": false
    }
   },
   "source": [
    "### [12.5 points] descendant"
   ]
  },
  {
   "cell_type": "code",
   "execution_count": null,
   "metadata": {
    "deletable": false,
    "nbgrader": {
     "checksum": "0d0c47e14381abbf9267691092d235de",
     "grade": false,
     "grade_id": "cell-ef096e8fda427628",
     "locked": false,
     "schema_version": 1,
     "solution": true
    }
   },
   "outputs": [],
   "source": [
    "%%clingo {\"predicate\" : \"descendant\", \"predicate_arity\" : 2, \"result_var\": \"Descendant\"}\n",
    "\n",
    "% Change following expression.\n",
    "descendant(X,Y) :- replace_me(X,Y).\n",
    "\n"
   ]
  },
  {
   "cell_type": "markdown",
   "metadata": {
    "deletable": false,
    "editable": false,
    "nbgrader": {
     "checksum": "2218267df82f46ab05b26572c7c19da1",
     "grade": false,
     "grade_id": "cell-e27a94260eb56dae",
     "locked": true,
     "schema_version": 1,
     "solution": false
    }
   },
   "source": [
    "\n",
    "#### [5 points] Test 1 for descendant.\n",
    "Following test will compare output of your descendant rule against expected output.\n",
    "You must have run all clingo cells above for test to pass."
   ]
  },
  {
   "cell_type": "code",
   "execution_count": null,
   "metadata": {
    "deletable": false,
    "editable": false,
    "nbgrader": {
     "checksum": "4ee1a8b616c1ec76d5e5d47a6231ada6",
     "grade": true,
     "grade_id": "cell-6543256467863da4",
     "locked": true,
     "points": 5,
     "schema_version": 1,
     "solution": false
    }
   },
   "outputs": [],
   "source": [
    "# Following should be output of your previous cell.\n",
    "# Order of predicates in the output doesn't matter.\n",
    "# Run to see expected output with syntax highlighting.\n",
    "expected_output = '''\n",
    "descendant(john,william) descendant(james,john) descendant(bill,james) descendant(bill,sue) descendant(carol,james) descendant(carol,sue) descendant(carol,john) descendant(bill,john) descendant(james,william) descendant(bill,william) descendant(carol,william)\n",
    "'''\n",
    "db_file = os.path.expanduser('~/data_readonly/datalog/family_base.lp')\n",
    "clingo_evaluate(db_file, Descendant['code'], 'descendant', 2, expected_output)"
   ]
  },
  {
   "cell_type": "markdown",
   "metadata": {
    "deletable": false,
    "editable": false,
    "nbgrader": {
     "checksum": "739e1394bd7dfe0f2e2051998f3c1796",
     "grade": false,
     "grade_id": "cell-5cd1b292d03f501f",
     "locked": true,
     "schema_version": 1,
     "solution": false
    }
   },
   "source": [
    "\n",
    "#### [7.5 points] Test 2 for descendant.\n",
    "Following is what is called a hidden test case. This will always pass in student's version but will actually be evaluated after submission.\n",
    "* We will first add some facts that are hidden from student.\n",
    "* We will run descendant rule using these new facts and see if rule still behaving correctly."
   ]
  },
  {
   "cell_type": "code",
   "execution_count": null,
   "metadata": {
    "deletable": false,
    "editable": false,
    "nbgrader": {
     "checksum": "5919541ce3052b1ace59792e4486169d",
     "grade": true,
     "grade_id": "cell-64b9c48e53c83dce",
     "locked": true,
     "points": 7.5,
     "schema_version": 1,
     "solution": false
    }
   },
   "outputs": [],
   "source": [
    "# This cell will test the descendant with these new facts.\n",
    "# Contents of this cell will not be present in student's version of assignment.\n",
    "# This will only be evaluated after submission.\n"
   ]
  },
  {
   "cell_type": "markdown",
   "metadata": {
    "deletable": false,
    "editable": false,
    "nbgrader": {
     "checksum": "c474f94fd800a33a229ea19406b06fbe",
     "grade": false,
     "grade_id": "cell-77f229c9a55d2a5e",
     "locked": true,
     "schema_version": 1,
     "solution": false
    }
   },
   "source": [
    "### [12.5 points] sibling"
   ]
  },
  {
   "cell_type": "code",
   "execution_count": null,
   "metadata": {
    "deletable": false,
    "nbgrader": {
     "checksum": "06f62325ea5834c068c2bfebb5ae35d4",
     "grade": false,
     "grade_id": "cell-3fb3e2c79c1b64ec",
     "locked": false,
     "schema_version": 1,
     "solution": true
    }
   },
   "outputs": [],
   "source": [
    "%%clingo {\"predicate\" : \"sibling\", \"predicate_arity\" : 2, \"result_var\": \"Sibling\"}\n",
    "\n",
    "% Following code snippet and it's result will be assigned to local variable Sibling\n",
    "\n",
    "% SIBLING\n",
    "% X and Y are siblings if they share a parent A.\n",
    "% Change following expression.\n",
    "sibling(X,Y) :- replace_me(X,Y).\n",
    "\n"
   ]
  },
  {
   "cell_type": "markdown",
   "metadata": {
    "deletable": false,
    "editable": false,
    "nbgrader": {
     "checksum": "3589a0800a3e1e171248a51c3403a09b",
     "grade": false,
     "grade_id": "cell-460a75b74e6f9681",
     "locked": true,
     "schema_version": 1,
     "solution": false
    }
   },
   "source": [
    "\n",
    "#### [5 points] Test for sibling.\n",
    "Following test will compare output of your sibling rule against expected output.\n",
    "You must have run all clingo cells above for test to pass."
   ]
  },
  {
   "cell_type": "code",
   "execution_count": null,
   "metadata": {
    "deletable": false,
    "editable": false,
    "nbgrader": {
     "checksum": "165dc2361e76c104015430d649ad2888",
     "grade": true,
     "grade_id": "cell-77630ccbfc9c2103",
     "locked": true,
     "points": 5,
     "schema_version": 1,
     "solution": false
    }
   },
   "outputs": [],
   "source": [
    "# Following should be output of your previous cell.\n",
    "# Order of predicates in the output doesn't matter.\n",
    "# Run to see expected output with syntax highlighting.\n",
    "expected_output = '''\n",
    "sibling(bill,carol)\n",
    "'''\n",
    "db_file = os.path.expanduser('~/data_readonly/datalog/family_base.lp')\n",
    "clingo_evaluate(db_file, Sibling['code'], 'sibling', 2, expected_output)"
   ]
  },
  {
   "cell_type": "markdown",
   "metadata": {
    "deletable": false,
    "editable": false,
    "nbgrader": {
     "checksum": "14bef462f1a62e06e204b6fe9b60c620",
     "grade": false,
     "grade_id": "cell-5feae9607117e57a",
     "locked": true,
     "schema_version": 1,
     "solution": false
    }
   },
   "source": [
    "#### [7.5 points] Test 2 for sibling.\n",
    "Following is what is called a hidden test case. This will always pass in student's version but will actually be evaluated after submission.\n",
    "* We will first add some facts that are hidden from student.\n",
    "* We will run sibling rule using these new facts and see if rule still behaving correctly."
   ]
  },
  {
   "cell_type": "code",
   "execution_count": null,
   "metadata": {
    "deletable": false,
    "editable": false,
    "nbgrader": {
     "checksum": "2564dfb12879cb459063fb1fddb7b593",
     "grade": true,
     "grade_id": "cell-18424b8a280f7092",
     "locked": true,
     "points": 7.5,
     "schema_version": 1,
     "solution": false
    }
   },
   "outputs": [],
   "source": [
    "# This cell will test the sibling with these new facts.\n",
    "# Contents of this cell will not be present in student's version of assignment.\n",
    "# This will only be evaluated after submission.\n"
   ]
  },
  {
   "cell_type": "markdown",
   "metadata": {
    "deletable": false,
    "editable": false,
    "nbgrader": {
     "checksum": "e3291fef6395ad10f87785a14657a057",
     "grade": false,
     "grade_id": "icv_person_has_parent_heading",
     "locked": true,
     "schema_version": 1,
     "solution": false
    }
   },
   "source": [
    "### [12.5 points] icv_person_has_parent"
   ]
  },
  {
   "cell_type": "code",
   "execution_count": null,
   "metadata": {
    "deletable": false,
    "nbgrader": {
     "checksum": "633cd693db7eebe2ba150ca1fa539d64",
     "grade": false,
     "grade_id": "cell-8cbc269071721973",
     "locked": false,
     "schema_version": 1,
     "solution": true
    }
   },
   "outputs": [],
   "source": [
    "%%clingo {\"predicate\" : \"icv_person_has_parent\", \"predicate_arity\" : 1, \"result_var\": \"Icv_person_has_parent\"}\n",
    "\n",
    "% Following code snippet and it's result will be assigned to local variable Icv_person_has_parent\n",
    "\n",
    "% Change following expression.\n",
    "% First find all persons; then find who has a parent; then who hasn't (using a safe rule).\n",
    "icv_person_has_parent(A) :- replace_me_d1(A).\n",
    "\n"
   ]
  },
  {
   "cell_type": "markdown",
   "metadata": {
    "deletable": false,
    "editable": false,
    "nbgrader": {
     "checksum": "a9ed427b5d5e9f88a76bebaf5007b8fc",
     "grade": false,
     "grade_id": "cell-e8c336f26211c4b1",
     "locked": true,
     "schema_version": 1,
     "solution": false
    }
   },
   "source": [
    "\n",
    "#### [5 points] Test 1 for icv_person_has_parent.\n",
    "Following test will compare output of your icv_person_has_parent rule against expected output.\n",
    "You must have run all clingo cells above for test to pass."
   ]
  },
  {
   "cell_type": "code",
   "execution_count": null,
   "metadata": {
    "deletable": false,
    "editable": false,
    "nbgrader": {
     "checksum": "2b0a1629282bddc81d81f518bde333ba",
     "grade": true,
     "grade_id": "cell-59d604b47089f609",
     "locked": true,
     "points": 5,
     "schema_version": 1,
     "solution": false
    }
   },
   "outputs": [],
   "source": [
    "# Following should be output of your previous cell.\n",
    "# Order of predicates in the output doesn't matter.\n",
    "# Run to see expected output with syntax highlighting.\n",
    "expected_output = '''\n",
    "icv_person_has_parent(william) icv_person_has_parent(sue)\n",
    "'''\n",
    "\n",
    "db_file = os.path.expanduser('~/data_readonly/datalog/family_base.lp')\n",
    "clingo_evaluate(db_file, Icv_person_has_parent['code'], 'icv_person_has_parent', 1, expected_output)"
   ]
  },
  {
   "cell_type": "markdown",
   "metadata": {
    "deletable": false,
    "editable": false,
    "nbgrader": {
     "checksum": "766d27a1ebd29343029cbda6ede3fd4b",
     "grade": false,
     "grade_id": "cell-7d1799d48e527c6e",
     "locked": true,
     "schema_version": 1,
     "solution": false
    }
   },
   "source": [
    "\n",
    "#### [7.5 points] Test 2 for icv_person_has_parent.\n",
    "Following is what is called a hidden test case. This will always pass in student's version but will actually be evaluated after submission.\n",
    "* We will first add some facts that are hidden from student.\n",
    "* We will run icv_person_has_parent rule using these new facts and see if rule still behaving correctly."
   ]
  },
  {
   "cell_type": "code",
   "execution_count": null,
   "metadata": {
    "deletable": false,
    "editable": false,
    "nbgrader": {
     "checksum": "1c43214c60e04e0299e618b3445bc6ff",
     "grade": true,
     "grade_id": "cell-88204f90e3e2a1f9",
     "locked": true,
     "points": 7.5,
     "schema_version": 1,
     "solution": false
    }
   },
   "outputs": [],
   "source": [
    "# This cell will test the icv_person_has_parent with these new facts.\n",
    "# Contents of this cell will not be present in student's version of assignment.\n",
    "# This will only be evaluated after submission.\n"
   ]
  },
  {
   "cell_type": "markdown",
   "metadata": {
    "deletable": false,
    "editable": false,
    "nbgrader": {
     "checksum": "adf0da3d2890aeb71d68a9978ae681a0",
     "grade": false,
     "grade_id": "cell-ab38d3ab673eb721",
     "locked": true,
     "schema_version": 1,
     "solution": false
    }
   },
   "source": [
    "### [12.5 points] icv_person_has_father_mother"
   ]
  },
  {
   "cell_type": "code",
   "execution_count": null,
   "metadata": {
    "deletable": false,
    "nbgrader": {
     "checksum": "1eb23a2658280033edcc3348825efd18",
     "grade": false,
     "grade_id": "cell-b02a72ef73f7eff2",
     "locked": false,
     "schema_version": 1,
     "solution": true
    }
   },
   "outputs": [],
   "source": [
    "%%clingo {\"predicate\" : \"icv_person_has_father_mother\", \"predicate_arity\" : 1, \"result_var\": \"Icv_person_has_father_mother\"}\n",
    "\n",
    "% Following code snippet and it's result will be assigned to local variable Icv_person_has_father_mother\n",
    "\n",
    "% Change following expression.\n",
    "% Find all people having both a father and mother, then report those who haven't.\n",
    "icv_person_has_father_mother(A) :- replace_me_d2(A).\n",
    "\n",
    "\n"
   ]
  },
  {
   "cell_type": "markdown",
   "metadata": {
    "deletable": false,
    "editable": false,
    "nbgrader": {
     "checksum": "7b005ee85a512d1c9f5528af357f8433",
     "grade": false,
     "grade_id": "cell-10e3eee48295cf85",
     "locked": true,
     "schema_version": 1,
     "solution": false
    }
   },
   "source": [
    "#### [5 points] Test 1 for icv_person_has_father_mother.\n",
    "Following test will compare output of your icv_person_has_father_mother rule against expected output.\n",
    "You must have run all clingo cells above for test to pass."
   ]
  },
  {
   "cell_type": "code",
   "execution_count": null,
   "metadata": {
    "deletable": false,
    "editable": false,
    "nbgrader": {
     "checksum": "8dd9b2311577c87cfa9ca39e0a229079",
     "grade": true,
     "grade_id": "cell-beda52bb72ea0c56",
     "locked": true,
     "points": 5,
     "schema_version": 1,
     "solution": false
    }
   },
   "outputs": [],
   "source": [
    "# Following should be output of your previous cell.\n",
    "# Order of predicates in the output doesn't matter.\n",
    "# Run to see expected output with syntax highlighting.\n",
    "expected_output = '''\n",
    "icv_person_has_father_mother(william) icv_person_has_father_mother(john) icv_person_has_father_mother(james) icv_person_has_father_mother(sue)\n",
    "\n",
    "\n",
    "'''\n",
    "\n",
    "db_file = os.path.expanduser('~/data_readonly/datalog/family_base.lp')\n",
    "clingo_evaluate(db_file, Icv_person_has_father_mother['code'], 'icv_person_has_father_mother', 1, expected_output)"
   ]
  },
  {
   "cell_type": "markdown",
   "metadata": {
    "deletable": false,
    "editable": false,
    "nbgrader": {
     "checksum": "28c9bcc24cd1f4e2e55ee779f8eb6a7e",
     "grade": false,
     "grade_id": "cell-b875153ef89aa363",
     "locked": true,
     "schema_version": 1,
     "solution": false
    }
   },
   "source": [
    "\n",
    "#### [7.5 points] Test 2 for icv_person_has_father_mother.\n",
    "Following is what is called a hidden test case. This will always pass in student's version but will actually be evaluated after submission.\n",
    "* We will first add some facts that are hidden from student.\n",
    "* We will run icv_person_has_father_mother rule using these new facts and see if rule still behaving correctly."
   ]
  },
  {
   "cell_type": "code",
   "execution_count": null,
   "metadata": {
    "deletable": false,
    "editable": false,
    "nbgrader": {
     "checksum": "7fc3512a5f2d2cd908b9e4936630fd51",
     "grade": true,
     "grade_id": "cell-72ee4e65be8e3a76",
     "locked": true,
     "points": 7.5,
     "schema_version": 1,
     "solution": false
    }
   },
   "outputs": [],
   "source": [
    "# This cell will test the icv_person_has_father_mother with these new facts.\n",
    "# Contents of this cell will not be present in student's version of assignment.\n",
    "# This will only be evaluated after submission.\n"
   ]
  },
  {
   "cell_type": "code",
   "execution_count": null,
   "metadata": {},
   "outputs": [],
   "source": []
  }
 ],
 "metadata": {
  "coursera": {
   "course_slug": "cs-513",
   "graded_item_id": "6KgR1",
   "launcher_item_id": "Vg9Le",
   "part_id": "ol2BN"
  },
  "kernelspec": {
   "display_name": "Python 3",
   "language": "python",
   "name": "python3"
  },
  "language_info": {
   "codemirror_mode": {
    "name": "ipython",
    "version": 3
   },
   "file_extension": ".py",
   "mimetype": "text/x-python",
   "name": "python",
   "nbconvert_exporter": "python",
   "pygments_lexer": "ipython3",
   "version": "3.6.8"
  }
 },
 "nbformat": 4,
 "nbformat_minor": 2
}
