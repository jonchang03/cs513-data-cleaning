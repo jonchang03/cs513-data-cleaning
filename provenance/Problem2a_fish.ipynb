{
 "cells": [
  {
   "cell_type": "markdown",
   "metadata": {},
   "source": [
    "Before you turn this problem in, make sure everything runs as expected. First, **restart the kernel** (in the menubar, select Kernel$\\rightarrow$Restart) and then **run all cells** (in the menubar, select Cell$\\rightarrow$Run All).\n",
    "\n",
    "Make sure you fill in any place that says `YOUR CODE HERE` or \"YOUR ANSWER HERE\", as well as your name and collaborators below:"
   ]
  },
  {
   "cell_type": "code",
   "execution_count": null,
   "metadata": {},
   "outputs": [],
   "source": [
    "NAME = \"\"\n",
    "COLLABORATORS = \"\""
   ]
  },
  {
   "cell_type": "markdown",
   "metadata": {},
   "source": [
    "---"
   ]
  },
  {
   "cell_type": "markdown",
   "metadata": {
    "deletable": false,
    "editable": false,
    "nbgrader": {
     "checksum": "79fef3d3de94c0bf41ef4b47be511d0a",
     "grade": false,
     "grade_id": "cell-c31b0281ede8d436",
     "locked": true,
     "schema_version": 1,
     "solution": false
    }
   },
   "source": [
    "## A few points:\n",
    "* Refer to the Datalog Assignment before attempting this notebook.\n",
    "* It's important to run following cell first for rest of notebook to work.\n",
    "* It's always a good idea to run cells in order. In case you have run cells in jumbled order and would want to start fresh, restart kernel from menu above.\n",
    "* All clingo cells start with `%%clingo`.\n",
    "* You can run your clingo cell against some basic facts and rules from a file. `set_db_file $filepath` sets the file against which your clingo cells will run.\n",
    "* Each clingo cell is independent of others. Rules defined in one cell won't be available in others.\n",
    "* It's nice to be able to execute clingo from within your notebook but don't forget to practice from command line. `%%clingo` is just a thin wrapper over command line and it's best to know how to use the underlying tool.\n",
    "* Upon assignment submission, we will run your code against different set of facts. Please don't hardcode answers and save yourself the embarassment.\n",
    "\n",
    "### Good luck!!"
   ]
  },
  {
   "cell_type": "markdown",
   "metadata": {
    "deletable": false,
    "editable": false,
    "nbgrader": {
     "checksum": "91e1045149ea6c246e7c126a618303a5",
     "grade": false,
     "grade_id": "cell-bc9900a18ac87255",
     "locked": true,
     "schema_version": 1,
     "solution": false
    }
   },
   "source": [
    "Two retrospective provenance graphs of similar but different workflow (prospective provenance) graphs. While the resulting Hamming numbers are the same, the graphs reveal differences in the workflow executions, resulting in different provenance graphs (a) H1 (“Fish”) and (b) H3 (“Sail”).\n",
    "\n",
    "![Fish and Sail](fish_sail.png \"Fish and Sail\")\n",
    "\n",
    "\n",
    "# Problem 2a \"Fish\"\n",
    "\n",
    "Hints. To solve Problem 2, you can reuse the rules from Problem 1: use the relation hamming(Y,X,F) to define a new “parent” relation par(X,Y). Using this new parent relation (obained from the Hamming edges), you can literally reuse the rules for anc(X,Y), ca(X,Y,A), not lca(X,Y,A), and lca(X,Y,A) to solve Problem 2.\n"
   ]
  },
  {
   "cell_type": "code",
   "execution_count": null,
   "metadata": {
    "deletable": false,
    "editable": false,
    "nbgrader": {
     "checksum": "875cee3adf4a9850107e54f9b3324399",
     "grade": false,
     "grade_id": "cell-aa25281cdb72aebe",
     "locked": true,
     "schema_version": 1,
     "solution": false
    }
   },
   "outputs": [],
   "source": [
    "%reload_ext lib.clingo.clingo_magic\n",
    "import os\n",
    "from lib.clingo.clingo_evaluate_util import clingo_evaluate"
   ]
  },
  {
   "cell_type": "code",
   "execution_count": null,
   "metadata": {
    "deletable": false,
    "editable": false,
    "nbgrader": {
     "checksum": "84daa94b1bc4df75593b325333fe6e01",
     "grade": false,
     "grade_id": "cell-90dafc5e64354463",
     "locked": true,
     "schema_version": 1,
     "solution": false
    }
   },
   "outputs": [],
   "source": [
    "# All clingo cells will run against this file containing some base facts.\n",
    "family_base_facts_and_rules_file = 'problem2-fish.lp'\n",
    "%set_db_file $family_base_facts_and_rules_file"
   ]
  },
  {
   "cell_type": "markdown",
   "metadata": {
    "deletable": false,
    "editable": false,
    "nbgrader": {
     "checksum": "725c8f020d50f9a2c1dc58c09a5a9ae7",
     "grade": false,
     "grade_id": "cell-27a969070875ed17",
     "locked": true,
     "schema_version": 1,
     "solution": false
    }
   },
   "source": [
    "See the Hamming Rules Output"
   ]
  },
  {
   "cell_type": "code",
   "execution_count": null,
   "metadata": {
    "deletable": false,
    "editable": false,
    "nbgrader": {
     "checksum": "f88dea9e329ed086af1ac4cf2744f427",
     "grade": false,
     "grade_id": "cell-cf09aa49db2cfe32",
     "locked": true,
     "schema_version": 1,
     "solution": false
    }
   },
   "outputs": [],
   "source": [
    "%%clingo {\"predicate\" : \"hamming\", \"predicate_arity\" : 3, \"result_var\": \"Hamming_test\"}\n",
    "% Hamming Test"
   ]
  },
  {
   "cell_type": "markdown",
   "metadata": {
    "deletable": false,
    "editable": false,
    "nbgrader": {
     "checksum": "b07f1049a24842f46e8f238bee0787e2",
     "grade": false,
     "grade_id": "cell-c0c35d6badba74e8",
     "locked": true,
     "schema_version": 1,
     "solution": false
    }
   },
   "source": [
    "### 1. [10 points] Common Ancestor\n",
    "Compute the lineage of 360 in fish provenance graph, i.e., all nodes for which there is a path that leads to 360. You will do same for sail graph in next notebook."
   ]
  },
  {
   "cell_type": "code",
   "execution_count": null,
   "metadata": {
    "deletable": false,
    "nbgrader": {
     "checksum": "5b6d1873c133e5838fe64d0da4c378c1",
     "grade": false,
     "grade_id": "cell-c28e3a4e7d953697",
     "locked": false,
     "schema_version": 1,
     "solution": true
    }
   },
   "outputs": [],
   "source": [
    "%%clingo {\"predicate\" : \"anc_360\", \"predicate_arity\" : 1, \"result_var\": \"Anc_360\"}\n",
    "\n",
    "% Change following expression.\n",
    "% add additional rules if necessary\n",
    "\n",
    "anc_360(X) :- replace_me(X).\n",
    "\n"
   ]
  },
  {
   "cell_type": "markdown",
   "metadata": {
    "deletable": false,
    "editable": false,
    "nbgrader": {
     "checksum": "9587b5577454f906e2ad39724fc81538",
     "grade": false,
     "grade_id": "cell-71f232fc9c8d8c40",
     "locked": true,
     "schema_version": 1,
     "solution": false
    }
   },
   "source": [
    "#### Test 1 for Ancestor 360.\n",
    "Following test will compare output of your anc_360 rule against expected output.\n",
    "You must have run all clingo cells above for test to pass."
   ]
  },
  {
   "cell_type": "code",
   "execution_count": null,
   "metadata": {
    "deletable": false,
    "editable": false,
    "nbgrader": {
     "checksum": "042933d6851cd6ec32997b919ef247a6",
     "grade": true,
     "grade_id": "cell-2d9923fdfe7a31c5",
     "locked": true,
     "points": 1,
     "schema_version": 1,
     "solution": false
    }
   },
   "outputs": [],
   "source": [
    "# Following should be output of your previous cell.\n",
    "# Order of predicates in the output doesn't matter.\n",
    "# Run to see expected output with syntax highlighting.\n",
    "\n",
    "expected_output = '''\n",
    "anc_360(72) anc_360(120) anc_360(180) anc_360(36) anc_360(60) anc_360(90) anc_360(24) anc_360(40) anc_360(8) anc_360(12) anc_360(20) anc_360(18) anc_360(30) anc_360(45) anc_360(9) anc_360(15) anc_360(6) anc_360(10) anc_360(4) anc_360(2) anc_360(3) anc_360(5) anc_360(1)\n",
    "'''\n",
    "db_file = 'problem2-fish.lp'\n",
    "clingo_evaluate(db_file, Anc_360['code'], 'anc_360', 1, expected_output)"
   ]
  },
  {
   "cell_type": "code",
   "execution_count": null,
   "metadata": {
    "deletable": false,
    "editable": false,
    "nbgrader": {
     "checksum": "98812554c280b2b0889fd84c1104e145",
     "grade": true,
     "grade_id": "cell-fc514433701a27d9",
     "locked": true,
     "points": 9,
     "schema_version": 1,
     "solution": false
    }
   },
   "outputs": [],
   "source": [
    "# Hidden Test\n",
    "# Omitted from student's version of notebook.\n"
   ]
  },
  {
   "cell_type": "markdown",
   "metadata": {
    "deletable": false,
    "editable": false,
    "nbgrader": {
     "checksum": "821fa163ecf53393b86503a826224fdb",
     "grade": false,
     "grade_id": "cell-73ed4729ada20adf",
     "locked": true,
     "schema_version": 1,
     "solution": false
    }
   },
   "source": [
    "### 2. [20 points] Lowest Common Ancestor\n",
    "Compute lca(360,600,a), i.e., the lowest common ancestor of 360 and 600 for fish graph, i.e., all nodes for which there is\n",
    "a path that leads to 360. You will do the same for sail graph in next notebook."
   ]
  },
  {
   "cell_type": "code",
   "execution_count": null,
   "metadata": {
    "deletable": false,
    "nbgrader": {
     "checksum": "a47759a7960fedf1ebdfef9f07e4fb9d",
     "grade": false,
     "grade_id": "cell-cc45da44a11882c1",
     "locked": false,
     "schema_version": 1,
     "solution": true
    }
   },
   "outputs": [],
   "source": [
    "%%clingo {\"predicate\" : \"lca_360_600\", \"predicate_arity\" : 1, \"result_var\": \"Lca_360_600\"}\n",
    "\n",
    "% Change following expression.\n",
    "% add additional rules if necessary\n",
    "\n",
    "lca_360_600(X) :- replace_me(X).\n",
    "\n"
   ]
  },
  {
   "cell_type": "code",
   "execution_count": null,
   "metadata": {
    "deletable": false,
    "editable": false,
    "nbgrader": {
     "checksum": "48996b01af5f647bf9179bdef9dde17c",
     "grade": true,
     "grade_id": "cell-9e42a2a2701c374b",
     "locked": true,
     "points": 5,
     "schema_version": 1,
     "solution": false
    }
   },
   "outputs": [],
   "source": [
    "# Following should be output of your previous cell.\n",
    "# Order of predicates in the output doesn't matter.\n",
    "# Run to see expected output with syntax highlighting.\n",
    "\n",
    "expected_output = '''\n",
    "lca_360_600(120)\n",
    "'''\n",
    "db_file = 'problem2-fish.lp'\n",
    "clingo_evaluate(db_file, Lca_360_600['code'], 'lca_360_600', 1, expected_output)"
   ]
  },
  {
   "cell_type": "code",
   "execution_count": null,
   "metadata": {
    "deletable": false,
    "editable": false,
    "nbgrader": {
     "checksum": "b923e3a6a019a15687b3dc222227a7bb",
     "grade": true,
     "grade_id": "cell-13b154541ea4fcbb",
     "locked": true,
     "points": 15,
     "schema_version": 1,
     "solution": false
    }
   },
   "outputs": [],
   "source": [
    "# Hidden Test\n",
    "# Omitted from student's version of notebook.\n"
   ]
  }
 ],
 "metadata": {
  "coursera": {
   "course_slug": "cs-513",
   "graded_item_id": "V166V",
   "launcher_item_id": "B5c7e",
   "part_id": "eVfWP"
  },
  "kernelspec": {
   "display_name": "Python 3",
   "language": "python",
   "name": "python3"
  },
  "language_info": {
   "codemirror_mode": {
    "name": "ipython",
    "version": 3
   },
   "file_extension": ".py",
   "mimetype": "text/x-python",
   "name": "python",
   "nbconvert_exporter": "python",
   "pygments_lexer": "ipython3",
   "version": "3.6.7"
  }
 },
 "nbformat": 4,
 "nbformat_minor": 2
}
